{
 "cells": [
  {
   "cell_type": "markdown",
   "metadata": {
    "collapsed": false
   },
   "source": [
    "# Solar Geoengineering Practical --> leading up to group project\n",
    "\n",
    "This practical will introduce you to the data and plotting routines that you will use in your group project."
   ]
  },
  {
   "cell_type": "markdown",
   "metadata": {
    "collapsed": false
   },
   "source": [
    "# 0. Background on stratospheric aerosol geoengineering"
   ]
  },
  {
   "cell_type": "markdown",
   "metadata": {
    "collapsed": false
   },
   "source": [
    "In this practical we will analyze the climate response to stratospheric aerosol geoengineering using results from the Geoengineering Large Ensemble (GLENS) runs. You will need to write about the GLENS experiments in the methods section of your group report. You can find out more about the GLENS runs here: https://journals.ametsoc.org/doi/full/10.1175/BAMS-D-17-0267.1 \n",
    "\n",
    "There are 2 GLENS experiments:\n",
    "- **Control** - starts in the year 2010 with GHG emissions following a high-end, rapid-warming scenario\n",
    "- **Feedback** - starts in the year 2020 with the same GHG scenario as Control but with stratospheric aerosol geoengineering deployed to keep temperatures at 2020 levels, see the paper linked to at the start for more.\n",
    "\n",
    "We'll be comparing 3 different cases based on those GLENS experiments:\n",
    "- **baseline**: the climate of today, 2010 - 2029 in the control experiment.\n",
    "- **global_warming**: the late 21st century in our global warming scenario: 2075 - 2094 in the control experiment. \n",
    "- **solar_geo**: the late 21st century in our stratospheric aerosol geoengineering experiment: 2075 - 2094 in the feedback experiment.\n",
    "\n",
    "You can find a more general overview of stratospheric aerosol geoengineering here: https://onlinelibrary.wiley.com/doi/full/10.1002/wcc.423. This will be useful for the introduction to your report.\n",
    "\n",
    "You don't need to read these papers to understand this practical though, so let's get started."
   ]
  },
  {
   "cell_type": "markdown",
   "metadata": {
    "collapsed": false
   },
   "source": [
    "## 1. load modules"
   ]
  },
  {
   "cell_type": "code",
   "execution_count": 1,
   "metadata": {
    "collapsed": false
   },
   "outputs": [
    {
     "name": "stdout",
     "output_type": "stream",
     "text": [
      "Defaulting to user installation because normal site-packages is not writeable\r\n"
     ]
    },
    {
     "name": "stdout",
     "output_type": "stream",
     "text": [
      "Collecting cf-python\r\n"
     ]
    },
    {
     "name": "stdout",
     "output_type": "stream",
     "text": [
      "  Downloading cf-python-3.8.0.tar.gz (1.6 MB)\r\n",
      "\u001b[?25l\r\u001b[K     |▏                               | 10 kB 34.6 MB/s eta 0:00:01\r\u001b[K     |▍                               | 20 kB 15.4 MB/s eta 0:00:01\r\u001b[K     |▋                               | 30 kB 10.1 MB/s eta 0:00:01"
     ]
    },
    {
     "name": "stdout",
     "output_type": "stream",
     "text": [
      "\r\u001b[K     |▉                               | 40 kB 3.8 MB/s eta 0:00:01\r\u001b[K     |█                               | 51 kB 4.7 MB/s eta 0:00:01\r\u001b[K     |█▎                              | 61 kB 5.2 MB/s eta 0:00:01\r\u001b[K     |█▌                              | 71 kB 5.4 MB/s eta 0:00:01\r\u001b[K     |█▊                              | 81 kB 5.5 MB/s eta 0:00:01\r\u001b[K     |██                              | 92 kB 5.8 MB/s eta 0:00:01\r\u001b[K     |██                              | 102 kB 4.5 MB/s eta 0:00:01\r\u001b[K     |██▎                             | 112 kB 4.5 MB/s eta 0:00:01\r\u001b[K     |██▌                             | 122 kB 4.5 MB/s eta 0:00:01\r\u001b[K     |██▊                             | 133 kB 4.5 MB/s eta 0:00:01\r\u001b[K     |███                             | 143 kB 4.5 MB/s eta 0:00:01\r\u001b[K     |███▏                            | 153 kB 4.5 MB/s eta 0:00:01\r\u001b[K     |███▍                            | 163 kB 4.5 MB/s eta 0:00:01\r\u001b[K     |███▋                            | 174 kB 4.5 MB/s eta 0:00:01\r\u001b[K     |███▉                            | 184 kB 4.5 MB/s eta 0:00:01\r\u001b[K     |████                            | 194 kB 4.5 MB/s eta 0:00:01\r\u001b[K     |████▏                           | 204 kB 4.5 MB/s eta 0:00:01\r\u001b[K     |████▍                           | 215 kB 4.5 MB/s eta 0:00:01\r\u001b[K     |████▋                           | 225 kB 4.5 MB/s eta 0:00:01\r\u001b[K     |████▉                           | 235 kB 4.5 MB/s eta 0:00:01\r\u001b[K     |█████                           | 245 kB 4.5 MB/s eta 0:00:01\r\u001b[K     |█████▎                          | 256 kB 4.5 MB/s eta 0:00:01\r\u001b[K     |█████▌                          | 266 kB 4.5 MB/s eta 0:00:01\r\u001b[K     |█████▊                          | 276 kB 4.5 MB/s eta 0:00:01\r\u001b[K     |██████                          | 286 kB 4.5 MB/s eta 0:00:01\r\u001b[K     |██████                          | 296 kB 4.5 MB/s eta 0:00:01"
     ]
    },
    {
     "name": "stdout",
     "output_type": "stream",
     "text": [
      "\r\u001b[K     |██████▎                         | 307 kB 4.5 MB/s eta 0:00:01\r\u001b[K     |██████▌                         | 317 kB 4.5 MB/s eta 0:00:01\r\u001b[K     |██████▊                         | 327 kB 4.5 MB/s eta 0:00:01\r\u001b[K     |███████                         | 337 kB 4.5 MB/s eta 0:00:01\r\u001b[K     |███████▏                        | 348 kB 4.5 MB/s eta 0:00:01\r\u001b[K     |███████▍                        | 358 kB 4.5 MB/s eta 0:00:01\r\u001b[K     |███████▋                        | 368 kB 4.5 MB/s eta 0:00:01\r\u001b[K     |███████▉                        | 378 kB 4.5 MB/s eta 0:00:01\r\u001b[K     |████████                        | 389 kB 4.5 MB/s eta 0:00:01\r\u001b[K     |████████▏                       | 399 kB 4.5 MB/s eta 0:00:01\r\u001b[K     |████████▍                       | 409 kB 4.5 MB/s eta 0:00:01\r\u001b[K     |████████▋                       | 419 kB 4.5 MB/s eta 0:00:01\r\u001b[K     |████████▉                       | 430 kB 4.5 MB/s eta 0:00:01\r\u001b[K     |█████████                       | 440 kB 4.5 MB/s eta 0:00:01\r\u001b[K     |█████████▎                      | 450 kB 4.5 MB/s eta 0:00:01\r\u001b[K     |█████████▌                      | 460 kB 4.5 MB/s eta 0:00:01\r\u001b[K     |█████████▊                      | 471 kB 4.5 MB/s eta 0:00:01\r\u001b[K     |██████████                      | 481 kB 4.5 MB/s eta 0:00:01\r\u001b[K     |██████████                      | 491 kB 4.5 MB/s eta 0:00:01\r\u001b[K     |██████████▎                     | 501 kB 4.5 MB/s eta 0:00:01\r\u001b[K     |██████████▌                     | 512 kB 4.5 MB/s eta 0:00:01\r\u001b[K     |██████████▊                     | 522 kB 4.5 MB/s eta 0:00:01\r\u001b[K     |███████████                     | 532 kB 4.5 MB/s eta 0:00:01\r\u001b[K     |███████████▏                    | 542 kB 4.5 MB/s eta 0:00:01\r\u001b[K     |███████████▍                    | 552 kB 4.5 MB/s eta 0:00:01\r\u001b[K     |███████████▋                    | 563 kB 4.5 MB/s eta 0:00:01\r\u001b[K     |███████████▉                    | 573 kB 4.5 MB/s eta 0:00:01\r\u001b[K     |████████████                    | 583 kB 4.5 MB/s eta 0:00:01\r\u001b[K     |████████████▏                   | 593 kB 4.5 MB/s eta 0:00:01\r\u001b[K     |████████████▍                   | 604 kB 4.5 MB/s eta 0:00:01\r\u001b[K     |████████████▋                   | 614 kB 4.5 MB/s eta 0:00:01\r\u001b[K     |████████████▉                   | 624 kB 4.5 MB/s eta 0:00:01\r\u001b[K     |█████████████                   | 634 kB 4.5 MB/s eta 0:00:01\r\u001b[K     |█████████████▎                  | 645 kB 4.5 MB/s eta 0:00:01\r\u001b[K     |█████████████▌                  | 655 kB 4.5 MB/s eta 0:00:01\r\u001b[K     |█████████████▊                  | 665 kB 4.5 MB/s eta 0:00:01\r\u001b[K     |█████████████▉                  | 675 kB 4.5 MB/s eta 0:00:01"
     ]
    },
    {
     "name": "stdout",
     "output_type": "stream",
     "text": [
      "\r\u001b[K     |██████████████                  | 686 kB 4.5 MB/s eta 0:00:01\r\u001b[K     |██████████████▎                 | 696 kB 4.5 MB/s eta 0:00:01\r\u001b[K     |██████████████▌                 | 706 kB 4.5 MB/s eta 0:00:01\r\u001b[K     |██████████████▊                 | 716 kB 4.5 MB/s eta 0:00:01\r\u001b[K     |███████████████                 | 727 kB 4.5 MB/s eta 0:00:01\r\u001b[K     |███████████████▏                | 737 kB 4.5 MB/s eta 0:00:01\r\u001b[K     |███████████████▍                | 747 kB 4.5 MB/s eta 0:00:01\r\u001b[K     |███████████████▋                | 757 kB 4.5 MB/s eta 0:00:01\r\u001b[K     |███████████████▉                | 768 kB 4.5 MB/s eta 0:00:01\r\u001b[K     |████████████████                | 778 kB 4.5 MB/s eta 0:00:01\r\u001b[K     |████████████████▏               | 788 kB 4.5 MB/s eta 0:00:01\r\u001b[K     |████████████████▍               | 798 kB 4.5 MB/s eta 0:00:01\r\u001b[K     |████████████████▋               | 808 kB 4.5 MB/s eta 0:00:01\r\u001b[K     |████████████████▉               | 819 kB 4.5 MB/s eta 0:00:01\r\u001b[K     |█████████████████               | 829 kB 4.5 MB/s eta 0:00:01\r\u001b[K     |█████████████████▎              | 839 kB 4.5 MB/s eta 0:00:01\r\u001b[K     |█████████████████▌              | 849 kB 4.5 MB/s eta 0:00:01\r\u001b[K     |█████████████████▊              | 860 kB 4.5 MB/s eta 0:00:01\r\u001b[K     |█████████████████▉              | 870 kB 4.5 MB/s eta 0:00:01\r\u001b[K     |██████████████████              | 880 kB 4.5 MB/s eta 0:00:01\r\u001b[K     |██████████████████▎             | 890 kB 4.5 MB/s eta 0:00:01\r\u001b[K     |██████████████████▌             | 901 kB 4.5 MB/s eta 0:00:01\r\u001b[K     |██████████████████▊             | 911 kB 4.5 MB/s eta 0:00:01\r\u001b[K     |███████████████████             | 921 kB 4.5 MB/s eta 0:00:01\r\u001b[K     |███████████████████▏            | 931 kB 4.5 MB/s eta 0:00:01\r\u001b[K     |███████████████████▍            | 942 kB 4.5 MB/s eta 0:00:01\r\u001b[K     |███████████████████▋            | 952 kB 4.5 MB/s eta 0:00:01\r\u001b[K     |███████████████████▉            | 962 kB 4.5 MB/s eta 0:00:01\r\u001b[K     |████████████████████            | 972 kB 4.5 MB/s eta 0:00:01\r\u001b[K     |████████████████████▏           | 983 kB 4.5 MB/s eta 0:00:01\r\u001b[K     |████████████████████▍           | 993 kB 4.5 MB/s eta 0:00:01\r\u001b[K     |████████████████████▋           | 1.0 MB 4.5 MB/s eta 0:00:01\r\u001b[K     |████████████████████▉           | 1.0 MB 4.5 MB/s eta 0:00:01\r\u001b[K     |█████████████████████           | 1.0 MB 4.5 MB/s eta 0:00:01\r\u001b[K     |█████████████████████▎          | 1.0 MB 4.5 MB/s eta 0:00:01\r\u001b[K     |█████████████████████▌          | 1.0 MB 4.5 MB/s eta 0:00:01\r\u001b[K     |█████████████████████▊          | 1.1 MB 4.5 MB/s eta 0:00:01\r\u001b[K     |█████████████████████▉          | 1.1 MB 4.5 MB/s eta 0:00:01\r\u001b[K     |██████████████████████          | 1.1 MB 4.5 MB/s eta 0:00:01\r\u001b[K     |██████████████████████▎         | 1.1 MB 4.5 MB/s eta 0:00:01\r\u001b[K     |██████████████████████▌         | 1.1 MB 4.5 MB/s eta 0:00:01\r\u001b[K     |██████████████████████▊         | 1.1 MB 4.5 MB/s eta 0:00:01"
     ]
    },
    {
     "name": "stdout",
     "output_type": "stream",
     "text": [
      "\r\u001b[K     |███████████████████████         | 1.1 MB 4.5 MB/s eta 0:00:01\r\u001b[K     |███████████████████████▏        | 1.1 MB 4.5 MB/s eta 0:00:01\r\u001b[K     |███████████████████████▍        | 1.1 MB 4.5 MB/s eta 0:00:01\r\u001b[K     |███████████████████████▋        | 1.1 MB 4.5 MB/s eta 0:00:01\r\u001b[K     |███████████████████████▊        | 1.2 MB 4.5 MB/s eta 0:00:01\r\u001b[K     |████████████████████████        | 1.2 MB 4.5 MB/s eta 0:00:01\r\u001b[K     |████████████████████████▏       | 1.2 MB 4.5 MB/s eta 0:00:01\r\u001b[K     |████████████████████████▍       | 1.2 MB 4.5 MB/s eta 0:00:01\r\u001b[K     |████████████████████████▋       | 1.2 MB 4.5 MB/s eta 0:00:01\r\u001b[K     |████████████████████████▉       | 1.2 MB 4.5 MB/s eta 0:00:01\r\u001b[K     |█████████████████████████       | 1.2 MB 4.5 MB/s eta 0:00:01\r\u001b[K     |█████████████████████████▎      | 1.2 MB 4.5 MB/s eta 0:00:01\r\u001b[K     |█████████████████████████▌      | 1.2 MB 4.5 MB/s eta 0:00:01\r\u001b[K     |█████████████████████████▊      | 1.2 MB 4.5 MB/s eta 0:00:01\r\u001b[K     |█████████████████████████▉      | 1.3 MB 4.5 MB/s eta 0:00:01\r\u001b[K     |██████████████████████████      | 1.3 MB 4.5 MB/s eta 0:00:01\r\u001b[K     |██████████████████████████▎     | 1.3 MB 4.5 MB/s eta 0:00:01\r\u001b[K     |██████████████████████████▌     | 1.3 MB 4.5 MB/s eta 0:00:01\r\u001b[K     |██████████████████████████▊     | 1.3 MB 4.5 MB/s eta 0:00:01\r\u001b[K     |███████████████████████████     | 1.3 MB 4.5 MB/s eta 0:00:01\r\u001b[K     |███████████████████████████▏    | 1.3 MB 4.5 MB/s eta 0:00:01\r\u001b[K     |███████████████████████████▍    | 1.3 MB 4.5 MB/s eta 0:00:01\r\u001b[K     |███████████████████████████▋    | 1.3 MB 4.5 MB/s eta 0:00:01\r\u001b[K     |███████████████████████████▊    | 1.4 MB 4.5 MB/s eta 0:00:01\r\u001b[K     |████████████████████████████    | 1.4 MB 4.5 MB/s eta 0:00:01\r\u001b[K     |████████████████████████████▏   | 1.4 MB 4.5 MB/s eta 0:00:01\r\u001b[K     |████████████████████████████▍   | 1.4 MB 4.5 MB/s eta 0:00:01\r\u001b[K     |████████████████████████████▋   | 1.4 MB 4.5 MB/s eta 0:00:01\r\u001b[K     |████████████████████████████▉   | 1.4 MB 4.5 MB/s eta 0:00:01\r\u001b[K     |█████████████████████████████   | 1.4 MB 4.5 MB/s eta 0:00:01\r\u001b[K     |█████████████████████████████▎  | 1.4 MB 4.5 MB/s eta 0:00:01\r\u001b[K     |█████████████████████████████▌  | 1.4 MB 4.5 MB/s eta 0:00:01\r\u001b[K     |█████████████████████████████▊  | 1.4 MB 4.5 MB/s eta 0:00:01\r\u001b[K     |█████████████████████████████▉  | 1.5 MB 4.5 MB/s eta 0:00:01\r\u001b[K     |██████████████████████████████  | 1.5 MB 4.5 MB/s eta 0:00:01\r\u001b[K     |██████████████████████████████▎ | 1.5 MB 4.5 MB/s eta 0:00:01\r\u001b[K     |██████████████████████████████▌ | 1.5 MB 4.5 MB/s eta 0:00:01\r\u001b[K     |██████████████████████████████▊ | 1.5 MB 4.5 MB/s eta 0:00:01\r\u001b[K     |███████████████████████████████ | 1.5 MB 4.5 MB/s eta 0:00:01\r\u001b[K     |███████████████████████████████▏| 1.5 MB 4.5 MB/s eta 0:00:01\r\u001b[K     |███████████████████████████████▍| 1.5 MB 4.5 MB/s eta 0:00:01\r\u001b[K     |███████████████████████████████▋| 1.5 MB 4.5 MB/s eta 0:00:01\r\u001b[K     |███████████████████████████████▊| 1.5 MB 4.5 MB/s eta 0:00:01\r\u001b[K     |████████████████████████████████| 1.6 MB 4.5 MB/s eta 0:00:01\r\u001b[K     |████████████████████████████████| 1.6 MB 4.5 MB/s \r\n"
     ]
    },
    {
     "name": "stdout",
     "output_type": "stream",
     "text": [
      "\u001b[?25hCollecting netCDF4>=1.5.3\r\n"
     ]
    },
    {
     "name": "stdout",
     "output_type": "stream",
     "text": [
      "  Downloading netCDF4-1.5.6-cp36-cp36m-manylinux2014_x86_64.whl (4.7 MB)\r\n",
      "\u001b[?25l\r\u001b[K     |                                | 10 kB 36.4 MB/s eta 0:00:01\r\u001b[K     |▏                               | 20 kB 26.6 MB/s eta 0:00:01\r\u001b[K     |▏                               | 30 kB 33.8 MB/s eta 0:00:01\r\u001b[K     |▎                               | 40 kB 25.1 MB/s eta 0:00:01\r\u001b[K     |▍                               | 51 kB 18.7 MB/s eta 0:00:01\r\u001b[K     |▍                               | 61 kB 21.7 MB/s eta 0:00:01\r\u001b[K     |▌                               | 71 kB 18.7 MB/s eta 0:00:01\r\u001b[K     |▋                               | 81 kB 20.9 MB/s eta 0:00:01\r\u001b[K     |▋                               | 92 kB 16.0 MB/s eta 0:00:01\r\u001b[K     |▊                               | 102 kB 15.8 MB/s eta 0:00:01\r\u001b[K     |▊                               | 112 kB 15.8 MB/s eta 0:00:01\r\u001b[K     |▉                               | 122 kB 15.8 MB/s eta 0:00:01\r\u001b[K     |█                               | 133 kB 15.8 MB/s eta 0:00:01\r\u001b[K     |█                               | 143 kB 15.8 MB/s eta 0:00:01\r\u001b[K     |█                               | 153 kB 15.8 MB/s eta 0:00:01\r\u001b[K     |█▏                              | 163 kB 15.8 MB/s eta 0:00:01\r\u001b[K     |█▏                              | 174 kB 15.8 MB/s eta 0:00:01\r\u001b[K     |█▎                              | 184 kB 15.8 MB/s eta 0:00:01\r\u001b[K     |█▎                              | 194 kB 15.8 MB/s eta 0:00:01\r\u001b[K     |█▍                              | 204 kB 15.8 MB/s eta 0:00:01\r\u001b[K     |█▌                              | 215 kB 15.8 MB/s eta 0:00:01\r\u001b[K     |█▌                              | 225 kB 15.8 MB/s eta 0:00:01\r\u001b[K     |█▋                              | 235 kB 15.8 MB/s eta 0:00:01\r\u001b[K     |█▊                              | 245 kB 15.8 MB/s eta 0:00:01\r\u001b[K     |█▊                              | 256 kB 15.8 MB/s eta 0:00:01\r\u001b[K     |█▉                              | 266 kB 15.8 MB/s eta 0:00:01\r\u001b[K     |█▉                              | 276 kB 15.8 MB/s eta 0:00:01\r\u001b[K     |██                              | 286 kB 15.8 MB/s eta 0:00:01\r\u001b[K     |██                              | 296 kB 15.8 MB/s eta 0:00:01\r\u001b[K     |██                              | 307 kB 15.8 MB/s eta 0:00:01\r\u001b[K     |██▏                             | 317 kB 15.8 MB/s eta 0:00:01"
     ]
    },
    {
     "name": "stdout",
     "output_type": "stream",
     "text": [
      "\r\u001b[K     |██▎                             | 327 kB 15.8 MB/s eta 0:00:01\r\u001b[K     |██▎                             | 337 kB 15.8 MB/s eta 0:00:01\r\u001b[K     |██▍                             | 348 kB 15.8 MB/s eta 0:00:01\r\u001b[K     |██▌                             | 358 kB 15.8 MB/s eta 0:00:01\r\u001b[K     |██▌                             | 368 kB 15.8 MB/s eta 0:00:01\r\u001b[K     |██▋                             | 378 kB 15.8 MB/s eta 0:00:01\r\u001b[K     |██▋                             | 389 kB 15.8 MB/s eta 0:00:01\r\u001b[K     |██▊                             | 399 kB 15.8 MB/s eta 0:00:01\r\u001b[K     |██▉                             | 409 kB 15.8 MB/s eta 0:00:01\r\u001b[K     |██▉                             | 419 kB 15.8 MB/s eta 0:00:01\r\u001b[K     |███                             | 430 kB 15.8 MB/s eta 0:00:01\r\u001b[K     |███                             | 440 kB 15.8 MB/s eta 0:00:01\r\u001b[K     |███                             | 450 kB 15.8 MB/s eta 0:00:01\r\u001b[K     |███▏                            | 460 kB 15.8 MB/s eta 0:00:01\r\u001b[K     |███▏                            | 471 kB 15.8 MB/s eta 0:00:01\r\u001b[K     |███▎                            | 481 kB 15.8 MB/s eta 0:00:01\r\u001b[K     |███▍                            | 491 kB 15.8 MB/s eta 0:00:01\r\u001b[K     |███▍                            | 501 kB 15.8 MB/s eta 0:00:01\r\u001b[K     |███▌                            | 512 kB 15.8 MB/s eta 0:00:01\r\u001b[K     |███▋                            | 522 kB 15.8 MB/s eta 0:00:01\r\u001b[K     |███▋                            | 532 kB 15.8 MB/s eta 0:00:01\r\u001b[K     |███▊                            | 542 kB 15.8 MB/s eta 0:00:01\r\u001b[K     |███▊                            | 552 kB 15.8 MB/s eta 0:00:01\r\u001b[K     |███▉                            | 563 kB 15.8 MB/s eta 0:00:01\r\u001b[K     |████                            | 573 kB 15.8 MB/s eta 0:00:01\r\u001b[K     |████                            | 583 kB 15.8 MB/s eta 0:00:01\r\u001b[K     |████                            | 593 kB 15.8 MB/s eta 0:00:01\r\u001b[K     |████▏                           | 604 kB 15.8 MB/s eta 0:00:01\r\u001b[K     |████▏                           | 614 kB 15.8 MB/s eta 0:00:01\r\u001b[K     |████▎                           | 624 kB 15.8 MB/s eta 0:00:01\r\u001b[K     |████▍                           | 634 kB 15.8 MB/s eta 0:00:01\r\u001b[K     |████▍                           | 645 kB 15.8 MB/s eta 0:00:01\r\u001b[K     |████▌                           | 655 kB 15.8 MB/s eta 0:00:01\r\u001b[K     |████▌                           | 665 kB 15.8 MB/s eta 0:00:01\r\u001b[K     |████▋                           | 675 kB 15.8 MB/s eta 0:00:01\r\u001b[K     |████▊                           | 686 kB 15.8 MB/s eta 0:00:01\r\u001b[K     |████▊                           | 696 kB 15.8 MB/s eta 0:00:01\r\u001b[K     |████▉                           | 706 kB 15.8 MB/s eta 0:00:01\r\u001b[K     |█████                           | 716 kB 15.8 MB/s eta 0:00:01\r\u001b[K     |█████                           | 727 kB 15.8 MB/s eta 0:00:01\r\u001b[K     |█████                           | 737 kB 15.8 MB/s eta 0:00:01\r\u001b[K     |█████                           | 747 kB 15.8 MB/s eta 0:00:01\r\u001b[K     |█████▏                          | 757 kB 15.8 MB/s eta 0:00:01\r\u001b[K     |█████▎                          | 768 kB 15.8 MB/s eta 0:00:01\r\u001b[K     |█████▎                          | 778 kB 15.8 MB/s eta 0:00:01\r\u001b[K     |█████▍                          | 788 kB 15.8 MB/s eta 0:00:01\r\u001b[K     |█████▌                          | 798 kB 15.8 MB/s eta 0:00:01\r\u001b[K     |█████▌                          | 808 kB 15.8 MB/s eta 0:00:01\r\u001b[K     |█████▋                          | 819 kB 15.8 MB/s eta 0:00:01\r\u001b[K     |█████▋                          | 829 kB 15.8 MB/s eta 0:00:01\r\u001b[K     |█████▊                          | 839 kB 15.8 MB/s eta 0:00:01\r\u001b[K     |█████▉                          | 849 kB 15.8 MB/s eta 0:00:01\r\u001b[K     |█████▉                          | 860 kB 15.8 MB/s eta 0:00:01\r\u001b[K     |██████                          | 870 kB 15.8 MB/s eta 0:00:01\r\u001b[K     |██████                          | 880 kB 15.8 MB/s eta 0:00:01\r\u001b[K     |██████                          | 890 kB 15.8 MB/s eta 0:00:01\r\u001b[K     |██████▏                         | 901 kB 15.8 MB/s eta 0:00:01\r\u001b[K     |██████▎                         | 911 kB 15.8 MB/s eta 0:00:01\r\u001b[K     |██████▎                         | 921 kB 15.8 MB/s eta 0:00:01\r\u001b[K     |██████▍                         | 931 kB 15.8 MB/s eta 0:00:01\r\u001b[K     |██████▍                         | 942 kB 15.8 MB/s eta 0:00:01\r\u001b[K     |██████▌                         | 952 kB 15.8 MB/s eta 0:00:01\r\u001b[K     |██████▋                         | 962 kB 15.8 MB/s eta 0:00:01\r\u001b[K     |██████▋                         | 972 kB 15.8 MB/s eta 0:00:01\r\u001b[K     |██████▊                         | 983 kB 15.8 MB/s eta 0:00:01\r\u001b[K     |██████▉                         | 993 kB 15.8 MB/s eta 0:00:01\r\u001b[K     |██████▉                         | 1.0 MB 15.8 MB/s eta 0:00:01\r\u001b[K     |███████                         | 1.0 MB 15.8 MB/s eta 0:00:01\r\u001b[K     |███████                         | 1.0 MB 15.8 MB/s eta 0:00:01"
     ]
    },
    {
     "name": "stdout",
     "output_type": "stream",
     "text": [
      "\r\u001b[K     |███████                         | 1.0 MB 15.8 MB/s eta 0:00:01\r\u001b[K     |███████▏                        | 1.0 MB 15.8 MB/s eta 0:00:01\r\u001b[K     |███████▏                        | 1.1 MB 15.8 MB/s eta 0:00:01\r\u001b[K     |███████▎                        | 1.1 MB 15.8 MB/s eta 0:00:01\r\u001b[K     |███████▍                        | 1.1 MB 15.8 MB/s eta 0:00:01\r\u001b[K     |███████▍                        | 1.1 MB 15.8 MB/s eta 0:00:01\r\u001b[K     |███████▌                        | 1.1 MB 15.8 MB/s eta 0:00:01\r\u001b[K     |███████▌                        | 1.1 MB 15.8 MB/s eta 0:00:01\r\u001b[K     |███████▋                        | 1.1 MB 15.8 MB/s eta 0:00:01\r\u001b[K     |███████▊                        | 1.1 MB 15.8 MB/s eta 0:00:01\r\u001b[K     |███████▊                        | 1.1 MB 15.8 MB/s eta 0:00:01\r\u001b[K     |███████▉                        | 1.1 MB 15.8 MB/s eta 0:00:01\r\u001b[K     |████████                        | 1.2 MB 15.8 MB/s eta 0:00:01\r\u001b[K     |████████                        | 1.2 MB 15.8 MB/s eta 0:00:01\r\u001b[K     |████████                        | 1.2 MB 15.8 MB/s eta 0:00:01\r\u001b[K     |████████▏                       | 1.2 MB 15.8 MB/s eta 0:00:01\r\u001b[K     |████████▏                       | 1.2 MB 15.8 MB/s eta 0:00:01\r\u001b[K     |████████▎                       | 1.2 MB 15.8 MB/s eta 0:00:01\r\u001b[K     |████████▎                       | 1.2 MB 15.8 MB/s eta 0:00:01\r\u001b[K     |████████▍                       | 1.2 MB 15.8 MB/s eta 0:00:01\r\u001b[K     |████████▌                       | 1.2 MB 15.8 MB/s eta 0:00:01\r\u001b[K     |████████▌                       | 1.2 MB 15.8 MB/s eta 0:00:01\r\u001b[K     |████████▋                       | 1.3 MB 15.8 MB/s eta 0:00:01\r\u001b[K     |████████▊                       | 1.3 MB 15.8 MB/s eta 0:00:01\r\u001b[K     |████████▊                       | 1.3 MB 15.8 MB/s eta 0:00:01\r\u001b[K     |████████▉                       | 1.3 MB 15.8 MB/s eta 0:00:01\r\u001b[K     |████████▉                       | 1.3 MB 15.8 MB/s eta 0:00:01\r\u001b[K     |█████████                       | 1.3 MB 15.8 MB/s eta 0:00:01\r\u001b[K     |█████████                       | 1.3 MB 15.8 MB/s eta 0:00:01\r\u001b[K     |█████████                       | 1.3 MB 15.8 MB/s eta 0:00:01\r\u001b[K     |█████████▏                      | 1.3 MB 15.8 MB/s eta 0:00:01\r\u001b[K     |█████████▎                      | 1.4 MB 15.8 MB/s eta 0:00:01\r\u001b[K     |█████████▎                      | 1.4 MB 15.8 MB/s eta 0:00:01\r\u001b[K     |█████████▍                      | 1.4 MB 15.8 MB/s eta 0:00:01\r\u001b[K     |█████████▍                      | 1.4 MB 15.8 MB/s eta 0:00:01\r\u001b[K     |█████████▌                      | 1.4 MB 15.8 MB/s eta 0:00:01\r\u001b[K     |█████████▋                      | 1.4 MB 15.8 MB/s eta 0:00:01\r\u001b[K     |█████████▋                      | 1.4 MB 15.8 MB/s eta 0:00:01\r\u001b[K     |█████████▊                      | 1.4 MB 15.8 MB/s eta 0:00:01\r\u001b[K     |█████████▉                      | 1.4 MB 15.8 MB/s eta 0:00:01\r\u001b[K     |█████████▉                      | 1.4 MB 15.8 MB/s eta 0:00:01\r\u001b[K     |██████████                      | 1.5 MB 15.8 MB/s eta 0:00:01\r\u001b[K     |██████████                      | 1.5 MB 15.8 MB/s eta 0:00:01\r\u001b[K     |██████████                      | 1.5 MB 15.8 MB/s eta 0:00:01\r\u001b[K     |██████████▏                     | 1.5 MB 15.8 MB/s eta 0:00:01\r\u001b[K     |██████████▏                     | 1.5 MB 15.8 MB/s eta 0:00:01\r\u001b[K     |██████████▎                     | 1.5 MB 15.8 MB/s eta 0:00:01\r\u001b[K     |██████████▍                     | 1.5 MB 15.8 MB/s eta 0:00:01\r\u001b[K     |██████████▍                     | 1.5 MB 15.8 MB/s eta 0:00:01\r\u001b[K     |██████████▌                     | 1.5 MB 15.8 MB/s eta 0:00:01\r\u001b[K     |██████████▋                     | 1.5 MB 15.8 MB/s eta 0:00:01\r\u001b[K     |██████████▋                     | 1.6 MB 15.8 MB/s eta 0:00:01\r\u001b[K     |██████████▊                     | 1.6 MB 15.8 MB/s eta 0:00:01\r\u001b[K     |██████████▊                     | 1.6 MB 15.8 MB/s eta 0:00:01\r\u001b[K     |██████████▉                     | 1.6 MB 15.8 MB/s eta 0:00:01\r\u001b[K     |███████████                     | 1.6 MB 15.8 MB/s eta 0:00:01\r\u001b[K     |███████████                     | 1.6 MB 15.8 MB/s eta 0:00:01\r\u001b[K     |███████████                     | 1.6 MB 15.8 MB/s eta 0:00:01\r\u001b[K     |███████████▏                    | 1.6 MB 15.8 MB/s eta 0:00:01\r\u001b[K     |███████████▏                    | 1.6 MB 15.8 MB/s eta 0:00:01\r\u001b[K     |███████████▎                    | 1.6 MB 15.8 MB/s eta 0:00:01\r\u001b[K     |███████████▎                    | 1.7 MB 15.8 MB/s eta 0:00:01\r\u001b[K     |███████████▍                    | 1.7 MB 15.8 MB/s eta 0:00:01\r\u001b[K     |███████████▌                    | 1.7 MB 15.8 MB/s eta 0:00:01\r\u001b[K     |███████████▌                    | 1.7 MB 15.8 MB/s eta 0:00:01\r\u001b[K     |███████████▋                    | 1.7 MB 15.8 MB/s eta 0:00:01\r\u001b[K     |███████████▊                    | 1.7 MB 15.8 MB/s eta 0:00:01\r\u001b[K     |███████████▊                    | 1.7 MB 15.8 MB/s eta 0:00:01\r\u001b[K     |███████████▉                    | 1.7 MB 15.8 MB/s eta 0:00:01\r\u001b[K     |████████████                    | 1.7 MB 15.8 MB/s eta 0:00:01\r\u001b[K     |████████████                    | 1.8 MB 15.8 MB/s eta 0:00:01\r\u001b[K     |████████████                    | 1.8 MB 15.8 MB/s eta 0:00:01\r\u001b[K     |████████████                    | 1.8 MB 15.8 MB/s eta 0:00:01\r\u001b[K     |████████████▏                   | 1.8 MB 15.8 MB/s eta 0:00:01\r\u001b[K     |████████████▎                   | 1.8 MB 15.8 MB/s eta 0:00:01\r\u001b[K     |████████████▎                   | 1.8 MB 15.8 MB/s eta 0:00:01\r\u001b[K     |████████████▍                   | 1.8 MB 15.8 MB/s eta 0:00:01\r\u001b[K     |████████████▌                   | 1.8 MB 15.8 MB/s eta 0:00:01"
     ]
    },
    {
     "name": "stdout",
     "output_type": "stream",
     "text": [
      "\r\u001b[K     |████████████▌                   | 1.8 MB 15.8 MB/s eta 0:00:01\r\u001b[K     |████████████▋                   | 1.8 MB 15.8 MB/s eta 0:00:01\r\u001b[K     |████████████▋                   | 1.9 MB 15.8 MB/s eta 0:00:01\r\u001b[K     |████████████▊                   | 1.9 MB 15.8 MB/s eta 0:00:01\r\u001b[K     |████████████▉                   | 1.9 MB 15.8 MB/s eta 0:00:01\r\u001b[K     |████████████▉                   | 1.9 MB 15.8 MB/s eta 0:00:01\r\u001b[K     |█████████████                   | 1.9 MB 15.8 MB/s eta 0:00:01\r\u001b[K     |█████████████                   | 1.9 MB 15.8 MB/s eta 0:00:01\r\u001b[K     |█████████████                   | 1.9 MB 15.8 MB/s eta 0:00:01\r\u001b[K     |█████████████▏                  | 1.9 MB 15.8 MB/s eta 0:00:01\r\u001b[K     |█████████████▏                  | 1.9 MB 15.8 MB/s eta 0:00:01\r\u001b[K     |█████████████▎                  | 1.9 MB 15.8 MB/s eta 0:00:01\r\u001b[K     |█████████████▍                  | 2.0 MB 15.8 MB/s eta 0:00:01\r\u001b[K     |█████████████▍                  | 2.0 MB 15.8 MB/s eta 0:00:01\r\u001b[K     |█████████████▌                  | 2.0 MB 15.8 MB/s eta 0:00:01\r\u001b[K     |█████████████▋                  | 2.0 MB 15.8 MB/s eta 0:00:01\r\u001b[K     |█████████████▋                  | 2.0 MB 15.8 MB/s eta 0:00:01\r\u001b[K     |█████████████▊                  | 2.0 MB 15.8 MB/s eta 0:00:01\r\u001b[K     |█████████████▉                  | 2.0 MB 15.8 MB/s eta 0:00:01\r\u001b[K     |█████████████▉                  | 2.0 MB 15.8 MB/s eta 0:00:01\r\u001b[K     |██████████████                  | 2.0 MB 15.8 MB/s eta 0:00:01\r\u001b[K     |██████████████                  | 2.0 MB 15.8 MB/s eta 0:00:01\r\u001b[K     |██████████████                  | 2.1 MB 15.8 MB/s eta 0:00:01\r\u001b[K     |██████████████▏                 | 2.1 MB 15.8 MB/s eta 0:00:01\r\u001b[K     |██████████████▏                 | 2.1 MB 15.8 MB/s eta 0:00:01\r\u001b[K     |██████████████▎                 | 2.1 MB 15.8 MB/s eta 0:00:01\r\u001b[K     |██████████████▍                 | 2.1 MB 15.8 MB/s eta 0:00:01\r\u001b[K     |██████████████▍                 | 2.1 MB 15.8 MB/s eta 0:00:01\r\u001b[K     |██████████████▌                 | 2.1 MB 15.8 MB/s eta 0:00:01\r\u001b[K     |██████████████▌                 | 2.1 MB 15.8 MB/s eta 0:00:01\r\u001b[K     |██████████████▋                 | 2.1 MB 15.8 MB/s eta 0:00:01\r\u001b[K     |██████████████▊                 | 2.2 MB 15.8 MB/s eta 0:00:01\r\u001b[K     |██████████████▊                 | 2.2 MB 15.8 MB/s eta 0:00:01\r\u001b[K     |██████████████▉                 | 2.2 MB 15.8 MB/s eta 0:00:01\r\u001b[K     |███████████████                 | 2.2 MB 15.8 MB/s eta 0:00:01\r\u001b[K     |███████████████                 | 2.2 MB 15.8 MB/s eta 0:00:01\r\u001b[K     |███████████████                 | 2.2 MB 15.8 MB/s eta 0:00:01\r\u001b[K     |███████████████                 | 2.2 MB 15.8 MB/s eta 0:00:01\r\u001b[K     |███████████████▏                | 2.2 MB 15.8 MB/s eta 0:00:01\r\u001b[K     |███████████████▎                | 2.2 MB 15.8 MB/s eta 0:00:01\r\u001b[K     |███████████████▎                | 2.2 MB 15.8 MB/s eta 0:00:01\r\u001b[K     |███████████████▍                | 2.3 MB 15.8 MB/s eta 0:00:01\r\u001b[K     |███████████████▌                | 2.3 MB 15.8 MB/s eta 0:00:01\r\u001b[K     |███████████████▌                | 2.3 MB 15.8 MB/s eta 0:00:01\r\u001b[K     |███████████████▋                | 2.3 MB 15.8 MB/s eta 0:00:01\r\u001b[K     |███████████████▊                | 2.3 MB 15.8 MB/s eta 0:00:01\r\u001b[K     |███████████████▊                | 2.3 MB 15.8 MB/s eta 0:00:01\r\u001b[K     |███████████████▉                | 2.3 MB 15.8 MB/s eta 0:00:01\r\u001b[K     |███████████████▉                | 2.3 MB 15.8 MB/s eta 0:00:01\r\u001b[K     |████████████████                | 2.3 MB 15.8 MB/s eta 0:00:01\r\u001b[K     |████████████████                | 2.3 MB 15.8 MB/s eta 0:00:01\r\u001b[K     |████████████████                | 2.4 MB 15.8 MB/s eta 0:00:01\r\u001b[K     |████████████████▏               | 2.4 MB 15.8 MB/s eta 0:00:01\r\u001b[K     |████████████████▎               | 2.4 MB 15.8 MB/s eta 0:00:01\r\u001b[K     |████████████████▎               | 2.4 MB 15.8 MB/s eta 0:00:01\r\u001b[K     |████████████████▍               | 2.4 MB 15.8 MB/s eta 0:00:01\r\u001b[K     |████████████████▍               | 2.4 MB 15.8 MB/s eta 0:00:01\r\u001b[K     |████████████████▌               | 2.4 MB 15.8 MB/s eta 0:00:01\r\u001b[K     |████████████████▋               | 2.4 MB 15.8 MB/s eta 0:00:01"
     ]
    },
    {
     "name": "stdout",
     "output_type": "stream",
     "text": [
      "\r\u001b[K     |████████████████▋               | 2.4 MB 15.8 MB/s eta 0:00:01\r\u001b[K     |████████████████▊               | 2.4 MB 15.8 MB/s eta 0:00:01\r\u001b[K     |████████████████▉               | 2.5 MB 15.8 MB/s eta 0:00:01\r\u001b[K     |████████████████▉               | 2.5 MB 15.8 MB/s eta 0:00:01\r\u001b[K     |█████████████████               | 2.5 MB 15.8 MB/s eta 0:00:01\r\u001b[K     |█████████████████               | 2.5 MB 15.8 MB/s eta 0:00:01\r\u001b[K     |█████████████████               | 2.5 MB 15.8 MB/s eta 0:00:01\r\u001b[K     |█████████████████▏              | 2.5 MB 15.8 MB/s eta 0:00:01\r\u001b[K     |█████████████████▏              | 2.5 MB 15.8 MB/s eta 0:00:01\r\u001b[K     |█████████████████▎              | 2.5 MB 15.8 MB/s eta 0:00:01\r\u001b[K     |█████████████████▍              | 2.5 MB 15.8 MB/s eta 0:00:01\r\u001b[K     |█████████████████▍              | 2.5 MB 15.8 MB/s eta 0:00:01\r\u001b[K     |█████████████████▌              | 2.6 MB 15.8 MB/s eta 0:00:01\r\u001b[K     |█████████████████▌              | 2.6 MB 15.8 MB/s eta 0:00:01\r\u001b[K     |█████████████████▋              | 2.6 MB 15.8 MB/s eta 0:00:01\r\u001b[K     |█████████████████▊              | 2.6 MB 15.8 MB/s eta 0:00:01\r\u001b[K     |█████████████████▊              | 2.6 MB 15.8 MB/s eta 0:00:01\r\u001b[K     |█████████████████▉              | 2.6 MB 15.8 MB/s eta 0:00:01\r\u001b[K     |██████████████████              | 2.6 MB 15.8 MB/s eta 0:00:01\r\u001b[K     |██████████████████              | 2.6 MB 15.8 MB/s eta 0:00:01\r\u001b[K     |██████████████████              | 2.6 MB 15.8 MB/s eta 0:00:01\r\u001b[K     |██████████████████▏             | 2.7 MB 15.8 MB/s eta 0:00:01\r\u001b[K     |██████████████████▏             | 2.7 MB 15.8 MB/s eta 0:00:01\r\u001b[K     |██████████████████▎             | 2.7 MB 15.8 MB/s eta 0:00:01\r\u001b[K     |██████████████████▎             | 2.7 MB 15.8 MB/s eta 0:00:01\r\u001b[K     |██████████████████▍             | 2.7 MB 15.8 MB/s eta 0:00:01\r\u001b[K     |██████████████████▌             | 2.7 MB 15.8 MB/s eta 0:00:01\r\u001b[K     |██████████████████▌             | 2.7 MB 15.8 MB/s eta 0:00:01\r\u001b[K     |██████████████████▋             | 2.7 MB 15.8 MB/s eta 0:00:01\r\u001b[K     |██████████████████▊             | 2.7 MB 15.8 MB/s eta 0:00:01\r\u001b[K     |██████████████████▊             | 2.7 MB 15.8 MB/s eta 0:00:01\r\u001b[K     |██████████████████▉             | 2.8 MB 15.8 MB/s eta 0:00:01\r\u001b[K     |██████████████████▉             | 2.8 MB 15.8 MB/s eta 0:00:01\r\u001b[K     |███████████████████             | 2.8 MB 15.8 MB/s eta 0:00:01\r\u001b[K     |███████████████████             | 2.8 MB 15.8 MB/s eta 0:00:01\r\u001b[K     |███████████████████             | 2.8 MB 15.8 MB/s eta 0:00:01\r\u001b[K     |███████████████████▏            | 2.8 MB 15.8 MB/s eta 0:00:01\r\u001b[K     |███████████████████▎            | 2.8 MB 15.8 MB/s eta 0:00:01\r\u001b[K     |███████████████████▎            | 2.8 MB 15.8 MB/s eta 0:00:01\r\u001b[K     |███████████████████▍            | 2.8 MB 15.8 MB/s eta 0:00:01\r\u001b[K     |███████████████████▍            | 2.8 MB 15.8 MB/s eta 0:00:01\r\u001b[K     |███████████████████▌            | 2.9 MB 15.8 MB/s eta 0:00:01\r\u001b[K     |███████████████████▋            | 2.9 MB 15.8 MB/s eta 0:00:01\r\u001b[K     |███████████████████▋            | 2.9 MB 15.8 MB/s eta 0:00:01\r\u001b[K     |███████████████████▊            | 2.9 MB 15.8 MB/s eta 0:00:01\r\u001b[K     |███████████████████▉            | 2.9 MB 15.8 MB/s eta 0:00:01\r\u001b[K     |███████████████████▉            | 2.9 MB 15.8 MB/s eta 0:00:01\r\u001b[K     |████████████████████            | 2.9 MB 15.8 MB/s eta 0:00:01\r\u001b[K     |████████████████████            | 2.9 MB 15.8 MB/s eta 0:00:01\r\u001b[K     |████████████████████            | 2.9 MB 15.8 MB/s eta 0:00:01\r\u001b[K     |████████████████████▏           | 2.9 MB 15.8 MB/s eta 0:00:01\r\u001b[K     |████████████████████▏           | 3.0 MB 15.8 MB/s eta 0:00:01\r\u001b[K     |████████████████████▎           | 3.0 MB 15.8 MB/s eta 0:00:01\r\u001b[K     |████████████████████▍           | 3.0 MB 15.8 MB/s eta 0:00:01\r\u001b[K     |████████████████████▍           | 3.0 MB 15.8 MB/s eta 0:00:01\r\u001b[K     |████████████████████▌           | 3.0 MB 15.8 MB/s eta 0:00:01\r\u001b[K     |████████████████████▋           | 3.0 MB 15.8 MB/s eta 0:00:01\r\u001b[K     |████████████████████▋           | 3.0 MB 15.8 MB/s eta 0:00:01\r\u001b[K     |████████████████████▊           | 3.0 MB 15.8 MB/s eta 0:00:01\r\u001b[K     |████████████████████▊           | 3.0 MB 15.8 MB/s eta 0:00:01\r\u001b[K     |████████████████████▉           | 3.1 MB 15.8 MB/s eta 0:00:01\r\u001b[K     |█████████████████████           | 3.1 MB 15.8 MB/s eta 0:00:01\r\u001b[K     |█████████████████████           | 3.1 MB 15.8 MB/s eta 0:00:01\r\u001b[K     |█████████████████████           | 3.1 MB 15.8 MB/s eta 0:00:01\r\u001b[K     |█████████████████████▏          | 3.1 MB 15.8 MB/s eta 0:00:01\r\u001b[K     |█████████████████████▏          | 3.1 MB 15.8 MB/s eta 0:00:01\r\u001b[K     |█████████████████████▎          | 3.1 MB 15.8 MB/s eta 0:00:01\r\u001b[K     |█████████████████████▎          | 3.1 MB 15.8 MB/s eta 0:00:01\r\u001b[K     |█████████████████████▍          | 3.1 MB 15.8 MB/s eta 0:00:01\r\u001b[K     |█████████████████████▌          | 3.1 MB 15.8 MB/s eta 0:00:01\r\u001b[K     |█████████████████████▌          | 3.2 MB 15.8 MB/s eta 0:00:01\r\u001b[K     |█████████████████████▋          | 3.2 MB 15.8 MB/s eta 0:00:01\r\u001b[K     |█████████████████████▊          | 3.2 MB 15.8 MB/s eta 0:00:01\r\u001b[K     |█████████████████████▊          | 3.2 MB 15.8 MB/s eta 0:00:01\r\u001b[K     |█████████████████████▉          | 3.2 MB 15.8 MB/s eta 0:00:01\r\u001b[K     |██████████████████████          | 3.2 MB 15.8 MB/s eta 0:00:01\r\u001b[K     |██████████████████████          | 3.2 MB 15.8 MB/s eta 0:00:01\r\u001b[K     |██████████████████████          | 3.2 MB 15.8 MB/s eta 0:00:01\r\u001b[K     |██████████████████████          | 3.2 MB 15.8 MB/s eta 0:00:01\r\u001b[K     |██████████████████████▏         | 3.2 MB 15.8 MB/s eta 0:00:01\r\u001b[K     |██████████████████████▎         | 3.3 MB 15.8 MB/s eta 0:00:01\r\u001b[K     |██████████████████████▎         | 3.3 MB 15.8 MB/s eta 0:00:01\r\u001b[K     |██████████████████████▍         | 3.3 MB 15.8 MB/s eta 0:00:01\r\u001b[K     |██████████████████████▌         | 3.3 MB 15.8 MB/s eta 0:00:01\r\u001b[K     |██████████████████████▌         | 3.3 MB 15.8 MB/s eta 0:00:01\r\u001b[K     |██████████████████████▋         | 3.3 MB 15.8 MB/s eta 0:00:01\r\u001b[K     |██████████████████████▋         | 3.3 MB 15.8 MB/s eta 0:00:01\r\u001b[K     |██████████████████████▊         | 3.3 MB 15.8 MB/s eta 0:00:01\r\u001b[K     |██████████████████████▉         | 3.3 MB 15.8 MB/s eta 0:00:01\r\u001b[K     |██████████████████████▉         | 3.3 MB 15.8 MB/s eta 0:00:01\r\u001b[K     |███████████████████████         | 3.4 MB 15.8 MB/s eta 0:00:01\r\u001b[K     |███████████████████████         | 3.4 MB 15.8 MB/s eta 0:00:01\r\u001b[K     |███████████████████████         | 3.4 MB 15.8 MB/s eta 0:00:01\r\u001b[K     |███████████████████████▏        | 3.4 MB 15.8 MB/s eta 0:00:01\r\u001b[K     |███████████████████████▏        | 3.4 MB 15.8 MB/s eta 0:00:01\r\u001b[K     |███████████████████████▎        | 3.4 MB 15.8 MB/s eta 0:00:01\r\u001b[K     |███████████████████████▍        | 3.4 MB 15.8 MB/s eta 0:00:01\r\u001b[K     |███████████████████████▍        | 3.4 MB 15.8 MB/s eta 0:00:01\r\u001b[K     |███████████████████████▌        | 3.4 MB 15.8 MB/s eta 0:00:01\r\u001b[K     |███████████████████████▋        | 3.5 MB 15.8 MB/s eta 0:00:01\r\u001b[K     |███████████████████████▋        | 3.5 MB 15.8 MB/s eta 0:00:01\r\u001b[K     |███████████████████████▊        | 3.5 MB 15.8 MB/s eta 0:00:01\r\u001b[K     |███████████████████████▉        | 3.5 MB 15.8 MB/s eta 0:00:01\r\u001b[K     |███████████████████████▉        | 3.5 MB 15.8 MB/s eta 0:00:01\r\u001b[K     |████████████████████████        | 3.5 MB 15.8 MB/s eta 0:00:01\r\u001b[K     |████████████████████████        | 3.5 MB 15.8 MB/s eta 0:00:01\r\u001b[K     |████████████████████████        | 3.5 MB 15.8 MB/s eta 0:00:01\r\u001b[K     |████████████████████████▏       | 3.5 MB 15.8 MB/s eta 0:00:01\r\u001b[K     |████████████████████████▏       | 3.5 MB 15.8 MB/s eta 0:00:01\r\u001b[K     |████████████████████████▎       | 3.6 MB 15.8 MB/s eta 0:00:01\r\u001b[K     |████████████████████████▍       | 3.6 MB 15.8 MB/s eta 0:00:01\r\u001b[K     |████████████████████████▍       | 3.6 MB 15.8 MB/s eta 0:00:01\r\u001b[K     |████████████████████████▌       | 3.6 MB 15.8 MB/s eta 0:00:01\r\u001b[K     |████████████████████████▌       | 3.6 MB 15.8 MB/s eta 0:00:01\r\u001b[K     |████████████████████████▋       | 3.6 MB 15.8 MB/s eta 0:00:01\r\u001b[K     |████████████████████████▊       | 3.6 MB 15.8 MB/s eta 0:00:01\r\u001b[K     |████████████████████████▊       | 3.6 MB 15.8 MB/s eta 0:00:01\r\u001b[K     |████████████████████████▉       | 3.6 MB 15.8 MB/s eta 0:00:01\r\u001b[K     |█████████████████████████       | 3.6 MB 15.8 MB/s eta 0:00:01\r\u001b[K     |█████████████████████████       | 3.7 MB 15.8 MB/s eta 0:00:01\r\u001b[K     |█████████████████████████       | 3.7 MB 15.8 MB/s eta 0:00:01\r\u001b[K     |█████████████████████████       | 3.7 MB 15.8 MB/s eta 0:00:01\r\u001b[K     |█████████████████████████▏      | 3.7 MB 15.8 MB/s eta 0:00:01\r\u001b[K     |█████████████████████████▎      | 3.7 MB 15.8 MB/s eta 0:00:01\r\u001b[K     |█████████████████████████▎      | 3.7 MB 15.8 MB/s eta 0:00:01\r\u001b[K     |█████████████████████████▍      | 3.7 MB 15.8 MB/s eta 0:00:01\r\u001b[K     |█████████████████████████▌      | 3.7 MB 15.8 MB/s eta 0:00:01\r\u001b[K     |█████████████████████████▌      | 3.7 MB 15.8 MB/s eta 0:00:01\r\u001b[K     |█████████████████████████▋      | 3.7 MB 15.8 MB/s eta 0:00:01\r\u001b[K     |█████████████████████████▊      | 3.8 MB 15.8 MB/s eta 0:00:01\r\u001b[K     |█████████████████████████▊      | 3.8 MB 15.8 MB/s eta 0:00:01\r\u001b[K     |█████████████████████████▉      | 3.8 MB 15.8 MB/s eta 0:00:01\r\u001b[K     |█████████████████████████▉      | 3.8 MB 15.8 MB/s eta 0:00:01\r\u001b[K     |██████████████████████████      | 3.8 MB 15.8 MB/s eta 0:00:01\r\u001b[K     |██████████████████████████      | 3.8 MB 15.8 MB/s eta 0:00:01"
     ]
    },
    {
     "name": "stdout",
     "output_type": "stream",
     "text": [
      "\r\u001b[K     |██████████████████████████      | 3.8 MB 15.8 MB/s eta 0:00:01\r\u001b[K     |██████████████████████████▏     | 3.8 MB 15.8 MB/s eta 0:00:01\r\u001b[K     |██████████████████████████▎     | 3.8 MB 15.8 MB/s eta 0:00:01\r\u001b[K     |██████████████████████████▎     | 3.9 MB 15.8 MB/s eta 0:00:01\r\u001b[K     |██████████████████████████▍     | 3.9 MB 15.8 MB/s eta 0:00:01\r\u001b[K     |██████████████████████████▍     | 3.9 MB 15.8 MB/s eta 0:00:01\r\u001b[K     |██████████████████████████▌     | 3.9 MB 15.8 MB/s eta 0:00:01\r\u001b[K     |██████████████████████████▋     | 3.9 MB 15.8 MB/s eta 0:00:01\r\u001b[K     |██████████████████████████▋     | 3.9 MB 15.8 MB/s eta 0:00:01\r\u001b[K     |██████████████████████████▊     | 3.9 MB 15.8 MB/s eta 0:00:01\r\u001b[K     |██████████████████████████▉     | 3.9 MB 15.8 MB/s eta 0:00:01\r\u001b[K     |██████████████████████████▉     | 3.9 MB 15.8 MB/s eta 0:00:01\r\u001b[K     |███████████████████████████     | 3.9 MB 15.8 MB/s eta 0:00:01"
     ]
    },
    {
     "name": "stdout",
     "output_type": "stream",
     "text": [
      "\r\u001b[K     |███████████████████████████     | 4.0 MB 15.8 MB/s eta 0:00:01\r\u001b[K     |███████████████████████████     | 4.0 MB 15.8 MB/s eta 0:00:01\r\u001b[K     |███████████████████████████▏    | 4.0 MB 15.8 MB/s eta 0:00:01\r\u001b[K     |███████████████████████████▏    | 4.0 MB 15.8 MB/s eta 0:00:01\r\u001b[K     |███████████████████████████▎    | 4.0 MB 15.8 MB/s eta 0:00:01\r\u001b[K     |███████████████████████████▍    | 4.0 MB 15.8 MB/s eta 0:00:01\r\u001b[K     |███████████████████████████▍    | 4.0 MB 15.8 MB/s eta 0:00:01\r\u001b[K     |███████████████████████████▌    | 4.0 MB 15.8 MB/s eta 0:00:01\r\u001b[K     |███████████████████████████▋    | 4.0 MB 15.8 MB/s eta 0:00:01\r\u001b[K     |███████████████████████████▋    | 4.0 MB 15.8 MB/s eta 0:00:01\r\u001b[K     |███████████████████████████▊    | 4.1 MB 15.8 MB/s eta 0:00:01\r\u001b[K     |███████████████████████████▊    | 4.1 MB 15.8 MB/s eta 0:00:01\r\u001b[K     |███████████████████████████▉    | 4.1 MB 15.8 MB/s eta 0:00:01\r\u001b[K     |████████████████████████████    | 4.1 MB 15.8 MB/s eta 0:00:01\r\u001b[K     |████████████████████████████    | 4.1 MB 15.8 MB/s eta 0:00:01\r\u001b[K     |████████████████████████████    | 4.1 MB 15.8 MB/s eta 0:00:01\r\u001b[K     |████████████████████████████▏   | 4.1 MB 15.8 MB/s eta 0:00:01\r\u001b[K     |████████████████████████████▏   | 4.1 MB 15.8 MB/s eta 0:00:01\r\u001b[K     |████████████████████████████▎   | 4.1 MB 15.8 MB/s eta 0:00:01\r\u001b[K     |████████████████████████████▎   | 4.1 MB 15.8 MB/s eta 0:00:01\r\u001b[K     |████████████████████████████▍   | 4.2 MB 15.8 MB/s eta 0:00:01\r\u001b[K     |████████████████████████████▌   | 4.2 MB 15.8 MB/s eta 0:00:01\r\u001b[K     |████████████████████████████▌   | 4.2 MB 15.8 MB/s eta 0:00:01\r\u001b[K     |████████████████████████████▋   | 4.2 MB 15.8 MB/s eta 0:00:01\r\u001b[K     |████████████████████████████▊   | 4.2 MB 15.8 MB/s eta 0:00:01\r\u001b[K     |████████████████████████████▊   | 4.2 MB 15.8 MB/s eta 0:00:01\r\u001b[K     |████████████████████████████▉   | 4.2 MB 15.8 MB/s eta 0:00:01\r\u001b[K     |████████████████████████████▉   | 4.2 MB 15.8 MB/s eta 0:00:01\r\u001b[K     |█████████████████████████████   | 4.2 MB 15.8 MB/s eta 0:00:01\r\u001b[K     |█████████████████████████████   | 4.2 MB 15.8 MB/s eta 0:00:01\r\u001b[K     |█████████████████████████████   | 4.3 MB 15.8 MB/s eta 0:00:01\r\u001b[K     |█████████████████████████████▏  | 4.3 MB 15.8 MB/s eta 0:00:01\r\u001b[K     |█████████████████████████████▎  | 4.3 MB 15.8 MB/s eta 0:00:01\r\u001b[K     |█████████████████████████████▎  | 4.3 MB 15.8 MB/s eta 0:00:01\r\u001b[K     |█████████████████████████████▍  | 4.3 MB 15.8 MB/s eta 0:00:01\r\u001b[K     |█████████████████████████████▌  | 4.3 MB 15.8 MB/s eta 0:00:01\r\u001b[K     |█████████████████████████████▌  | 4.3 MB 15.8 MB/s eta 0:00:01\r\u001b[K     |█████████████████████████████▋  | 4.3 MB 15.8 MB/s eta 0:00:01\r\u001b[K     |█████████████████████████████▋  | 4.3 MB 15.8 MB/s eta 0:00:01\r\u001b[K     |█████████████████████████████▊  | 4.4 MB 15.8 MB/s eta 0:00:01\r\u001b[K     |█████████████████████████████▉  | 4.4 MB 15.8 MB/s eta 0:00:01\r\u001b[K     |█████████████████████████████▉  | 4.4 MB 15.8 MB/s eta 0:00:01\r\u001b[K     |██████████████████████████████  | 4.4 MB 15.8 MB/s eta 0:00:01\r\u001b[K     |██████████████████████████████  | 4.4 MB 15.8 MB/s eta 0:00:01\r\u001b[K     |██████████████████████████████  | 4.4 MB 15.8 MB/s eta 0:00:01\r\u001b[K     |██████████████████████████████▏ | 4.4 MB 15.8 MB/s eta 0:00:01\r\u001b[K     |██████████████████████████████▏ | 4.4 MB 15.8 MB/s eta 0:00:01\r\u001b[K     |██████████████████████████████▎ | 4.4 MB 15.8 MB/s eta 0:00:01\r\u001b[K     |██████████████████████████████▍ | 4.4 MB 15.8 MB/s eta 0:00:01\r\u001b[K     |██████████████████████████████▍ | 4.5 MB 15.8 MB/s eta 0:00:01\r\u001b[K     |██████████████████████████████▌ | 4.5 MB 15.8 MB/s eta 0:00:01\r\u001b[K     |██████████████████████████████▋ | 4.5 MB 15.8 MB/s eta 0:00:01\r\u001b[K     |██████████████████████████████▋ | 4.5 MB 15.8 MB/s eta 0:00:01\r\u001b[K     |██████████████████████████████▊ | 4.5 MB 15.8 MB/s eta 0:00:01\r\u001b[K     |██████████████████████████████▊ | 4.5 MB 15.8 MB/s eta 0:00:01\r\u001b[K     |██████████████████████████████▉ | 4.5 MB 15.8 MB/s eta 0:00:01\r\u001b[K     |███████████████████████████████ | 4.5 MB 15.8 MB/s eta 0:00:01\r\u001b[K     |███████████████████████████████ | 4.5 MB 15.8 MB/s eta 0:00:01\r\u001b[K     |███████████████████████████████ | 4.5 MB 15.8 MB/s eta 0:00:01\r\u001b[K     |███████████████████████████████▏| 4.6 MB 15.8 MB/s eta 0:00:01\r\u001b[K     |███████████████████████████████▏| 4.6 MB 15.8 MB/s eta 0:00:01\r\u001b[K     |███████████████████████████████▎| 4.6 MB 15.8 MB/s eta 0:00:01\r\u001b[K     |███████████████████████████████▍| 4.6 MB 15.8 MB/s eta 0:00:01\r\u001b[K     |███████████████████████████████▍| 4.6 MB 15.8 MB/s eta 0:00:01\r\u001b[K     |███████████████████████████████▌| 4.6 MB 15.8 MB/s eta 0:00:01\r\u001b[K     |███████████████████████████████▌| 4.6 MB 15.8 MB/s eta 0:00:01\r\u001b[K     |███████████████████████████████▋| 4.6 MB 15.8 MB/s eta 0:00:01\r\u001b[K     |███████████████████████████████▊| 4.6 MB 15.8 MB/s eta 0:00:01\r\u001b[K     |███████████████████████████████▊| 4.6 MB 15.8 MB/s eta 0:00:01\r\u001b[K     |███████████████████████████████▉| 4.7 MB 15.8 MB/s eta 0:00:01\r\u001b[K     |████████████████████████████████| 4.7 MB 15.8 MB/s eta 0:00:01\r\u001b[K     |████████████████████████████████| 4.7 MB 15.8 MB/s eta 0:00:01\r\u001b[K     |████████████████████████████████| 4.7 MB 15.8 MB/s \r\n"
     ]
    },
    {
     "name": "stdout",
     "output_type": "stream",
     "text": [
      "\u001b[?25hCollecting cftime>=1.3.0\r\n"
     ]
    },
    {
     "name": "stdout",
     "output_type": "stream",
     "text": [
      "  Downloading cftime-1.4.1-cp36-cp36m-manylinux2014_x86_64.whl (316 kB)\r\n",
      "\u001b[?25l\r\u001b[K     |█                               | 10 kB 35.4 MB/s eta 0:00:01\r\u001b[K     |██                              | 20 kB 31.8 MB/s eta 0:00:01\r\u001b[K     |███                             | 30 kB 35.4 MB/s eta 0:00:01\r\u001b[K     |████▏                           | 40 kB 35.4 MB/s eta 0:00:01\r\u001b[K     |█████▏                          | 51 kB 36.4 MB/s eta 0:00:01\r\u001b[K     |██████▏                         | 61 kB 37.4 MB/s eta 0:00:01\r\u001b[K     |███████▎                        | 71 kB 39.0 MB/s eta 0:00:01\r\u001b[K     |████████▎                       | 81 kB 40.9 MB/s eta 0:00:01\r\u001b[K     |█████████▎                      | 92 kB 42.3 MB/s eta 0:00:01\r\u001b[K     |██████████▍                     | 102 kB 43.2 MB/s eta 0:00:01\r\u001b[K     |███████████▍                    | 112 kB 43.2 MB/s eta 0:00:01\r\u001b[K     |████████████▍                   | 122 kB 43.2 MB/s eta 0:00:01\r\u001b[K     |█████████████▌                  | 133 kB 43.2 MB/s eta 0:00:01\r\u001b[K     |██████████████▌                 | 143 kB 43.2 MB/s eta 0:00:01\r\u001b[K     |███████████████▌                | 153 kB 43.2 MB/s eta 0:00:01\r\u001b[K     |████████████████▌               | 163 kB 43.2 MB/s eta 0:00:01\r\u001b[K     |█████████████████▋              | 174 kB 43.2 MB/s eta 0:00:01\r\u001b[K     |██████████████████▋             | 184 kB 43.2 MB/s eta 0:00:01\r\u001b[K     |███████████████████▋            | 194 kB 43.2 MB/s eta 0:00:01\r\u001b[K     |████████████████████▊           | 204 kB 43.2 MB/s eta 0:00:01\r\u001b[K     |█████████████████████▊          | 215 kB 43.2 MB/s eta 0:00:01\r\u001b[K     |██████████████████████▊         | 225 kB 43.2 MB/s eta 0:00:01\r\u001b[K     |███████████████████████▉        | 235 kB 43.2 MB/s eta 0:00:01\r\u001b[K     |████████████████████████▉       | 245 kB 43.2 MB/s eta 0:00:01\r\u001b[K     |█████████████████████████▉      | 256 kB 43.2 MB/s eta 0:00:01\r\u001b[K     |███████████████████████████     | 266 kB 43.2 MB/s eta 0:00:01\r\u001b[K     |████████████████████████████    | 276 kB 43.2 MB/s eta 0:00:01\r\u001b[K     |█████████████████████████████   | 286 kB 43.2 MB/s eta 0:00:01\r\u001b[K     |██████████████████████████████  | 296 kB 43.2 MB/s eta 0:00:01\r\u001b[K     |███████████████████████████████ | 307 kB 43.2 MB/s eta 0:00:01\r\u001b[K     |████████████████████████████████| 316 kB 43.2 MB/s \r\n"
     ]
    },
    {
     "name": "stdout",
     "output_type": "stream",
     "text": [
      "\u001b[?25hRequirement already satisfied: numpy>=1.15 in /usr/local/lib/python3.6/dist-packages (from cf-python) (1.18.5)\r\n"
     ]
    },
    {
     "name": "stdout",
     "output_type": "stream",
     "text": [
      "Collecting cfdm<1.8.9.0,>=1.8.8.0\r\n"
     ]
    },
    {
     "name": "stdout",
     "output_type": "stream",
     "text": [
      "  Downloading cfdm-1.8.8.0.tar.gz (324 kB)\r\n",
      "\u001b[?25l\r\u001b[K     |█                               | 10 kB 29.6 MB/s eta 0:00:01\r\u001b[K     |██                              | 20 kB 37.6 MB/s eta 0:00:01\r\u001b[K     |███                             | 30 kB 47.5 MB/s eta 0:00:01\r\u001b[K     |████                            | 40 kB 55.1 MB/s eta 0:00:01\r\u001b[K     |█████                           | 51 kB 60.0 MB/s eta 0:00:01\r\u001b[K     |██████                          | 61 kB 65.0 MB/s eta 0:00:01\r\u001b[K     |███████                         | 71 kB 64.1 MB/s eta 0:00:01\r\u001b[K     |████████                        | 81 kB 63.3 MB/s eta 0:00:01\r\u001b[K     |█████████                       | 92 kB 64.7 MB/s eta 0:00:01\r\u001b[K     |██████████                      | 102 kB 66.4 MB/s eta 0:00:01\r\u001b[K     |███████████                     | 112 kB 66.4 MB/s eta 0:00:01"
     ]
    },
    {
     "name": "stdout",
     "output_type": "stream",
     "text": [
      "\r\u001b[K     |████████████                    | 122 kB 66.4 MB/s eta 0:00:01\r\u001b[K     |█████████████▏                  | 133 kB 66.4 MB/s eta 0:00:01\r\u001b[K     |██████████████▏                 | 143 kB 66.4 MB/s eta 0:00:01\r\u001b[K     |███████████████▏                | 153 kB 66.4 MB/s eta 0:00:01\r\u001b[K     |████████████████▏               | 163 kB 66.4 MB/s eta 0:00:01\r\u001b[K     |█████████████████▏              | 174 kB 66.4 MB/s eta 0:00:01\r\u001b[K     |██████████████████▏             | 184 kB 66.4 MB/s eta 0:00:01\r\u001b[K     |███████████████████▏            | 194 kB 66.4 MB/s eta 0:00:01\r\u001b[K     |████████████████████▏           | 204 kB 66.4 MB/s eta 0:00:01\r\u001b[K     |█████████████████████▏          | 215 kB 66.4 MB/s eta 0:00:01\r\u001b[K     |██████████████████████▏         | 225 kB 66.4 MB/s eta 0:00:01\r\u001b[K     |███████████████████████▏        | 235 kB 66.4 MB/s eta 0:00:01\r\u001b[K     |████████████████████████▏       | 245 kB 66.4 MB/s eta 0:00:01\r\u001b[K     |█████████████████████████▏      | 256 kB 66.4 MB/s eta 0:00:01\r\u001b[K     |██████████████████████████▎     | 266 kB 66.4 MB/s eta 0:00:01\r\u001b[K     |███████████████████████████▎    | 276 kB 66.4 MB/s eta 0:00:01\r\u001b[K     |████████████████████████████▎   | 286 kB 66.4 MB/s eta 0:00:01\r\u001b[K     |█████████████████████████████▎  | 296 kB 66.4 MB/s eta 0:00:01\r\u001b[K     |██████████████████████████████▎ | 307 kB 66.4 MB/s eta 0:00:01\r\u001b[K     |███████████████████████████████▎| 317 kB 66.4 MB/s eta 0:00:01\r\u001b[K     |████████████████████████████████| 324 kB 66.4 MB/s \r\n"
     ]
    },
    {
     "name": "stdout",
     "output_type": "stream",
     "text": [
      "\u001b[?25hRequirement already satisfied: psutil>=0.6.0 in /usr/lib/python3/dist-packages (from cf-python) (5.4.2)\r\n"
     ]
    },
    {
     "name": "stdout",
     "output_type": "stream",
     "text": [
      "Collecting cfunits>=3.3.1\r\n"
     ]
    },
    {
     "name": "stdout",
     "output_type": "stream",
     "text": [
      "  Downloading cfunits-3.3.1.tar.gz (136 kB)\r\n",
      "\u001b[?25l\r\u001b[K     |██▍                             | 10 kB 29.1 MB/s eta 0:00:01\r\u001b[K     |████▉                           | 20 kB 33.3 MB/s eta 0:00:01\r\u001b[K     |███████▏                        | 30 kB 43.1 MB/s eta 0:00:01\r\u001b[K     |█████████▋                      | 40 kB 49.8 MB/s eta 0:00:01\r\u001b[K     |████████████                    | 51 kB 55.1 MB/s eta 0:00:01\r\u001b[K     |██████████████▍                 | 61 kB 60.0 MB/s eta 0:00:01\r\u001b[K     |████████████████▊               | 71 kB 63.3 MB/s eta 0:00:01\r\u001b[K     |███████████████████▏            | 81 kB 67.0 MB/s eta 0:00:01\r\u001b[K     |█████████████████████▌          | 92 kB 68.9 MB/s eta 0:00:01\r\u001b[K     |████████████████████████        | 102 kB 70.8 MB/s eta 0:00:01\r\u001b[K     |██████████████████████████▍     | 112 kB 70.8 MB/s eta 0:00:01\r\u001b[K     |████████████████████████████▊   | 122 kB 70.8 MB/s eta 0:00:01\r\u001b[K     |███████████████████████████████▏| 133 kB 70.8 MB/s eta 0:00:01\r\u001b[K     |████████████████████████████████| 136 kB 70.8 MB/s \r\n"
     ]
    },
    {
     "name": "stdout",
     "output_type": "stream",
     "text": [
      "\u001b[?25hCollecting netcdf-flattener>=1.2.0\r\n"
     ]
    },
    {
     "name": "stdout",
     "output_type": "stream",
     "text": [
      "  Downloading netcdf-flattener-1.2.0.tar.gz (26 kB)\r\n"
     ]
    },
    {
     "name": "stdout",
     "output_type": "stream",
     "text": [
      "Building wheels for collected packages: cf-python, cfdm, cfunits, netcdf-flattener\r\n"
     ]
    },
    {
     "name": "stdout",
     "output_type": "stream",
     "text": [
      "  Building wheel for cf-python (setup.py) ... \u001b[?25l-"
     ]
    },
    {
     "name": "stdout",
     "output_type": "stream",
     "text": [
      "\b \b\\"
     ]
    },
    {
     "name": "stdout",
     "output_type": "stream",
     "text": [
      "\b \b|"
     ]
    },
    {
     "name": "stdout",
     "output_type": "stream",
     "text": [
      "\b \b/"
     ]
    },
    {
     "name": "stdout",
     "output_type": "stream",
     "text": [
      "\b \b-"
     ]
    },
    {
     "name": "stdout",
     "output_type": "stream",
     "text": [
      "\b \b\\"
     ]
    },
    {
     "name": "stdout",
     "output_type": "stream",
     "text": [
      "\b \b|"
     ]
    },
    {
     "name": "stdout",
     "output_type": "stream",
     "text": [
      "\b \b/"
     ]
    },
    {
     "name": "stdout",
     "output_type": "stream",
     "text": [
      "\b \b-"
     ]
    },
    {
     "name": "stdout",
     "output_type": "stream",
     "text": [
      "\b \b\\"
     ]
    },
    {
     "name": "stdout",
     "output_type": "stream",
     "text": [
      "\b \b|"
     ]
    },
    {
     "name": "stdout",
     "output_type": "stream",
     "text": [
      "\b \b/"
     ]
    },
    {
     "name": "stdout",
     "output_type": "stream",
     "text": [
      "\b \b-"
     ]
    },
    {
     "name": "stdout",
     "output_type": "stream",
     "text": [
      "\b \b\\"
     ]
    },
    {
     "name": "stdout",
     "output_type": "stream",
     "text": [
      "\b \b|"
     ]
    },
    {
     "name": "stdout",
     "output_type": "stream",
     "text": [
      "\b \b/"
     ]
    },
    {
     "name": "stdout",
     "output_type": "stream",
     "text": [
      "\b \b-"
     ]
    },
    {
     "name": "stdout",
     "output_type": "stream",
     "text": [
      "\b \bdone\r\n",
      "\u001b[?25h  Created wheel for cf-python: filename=cf_python-3.8.0-py3-none-any.whl size=1865896 sha256=507c9ef45064ac8d2b7c34f8263139f6e44c56114daf867792ddc566a57769bd\r\n",
      "  Stored in directory: /tmp/pip-ephem-wheel-cache-gx4qhm7w/wheels/82/c6/bf/213179c441ca66d6f0923790e1256965de2019d264f4341dbf\r\n"
     ]
    },
    {
     "name": "stdout",
     "output_type": "stream",
     "text": [
      "  Building wheel for cfdm (setup.py) ... \u001b[?25l-"
     ]
    },
    {
     "name": "stdout",
     "output_type": "stream",
     "text": [
      "\b \b\\"
     ]
    },
    {
     "name": "stdout",
     "output_type": "stream",
     "text": [
      "\b \b|"
     ]
    },
    {
     "name": "stdout",
     "output_type": "stream",
     "text": [
      "\b \bdone\r\n",
      "\u001b[?25h  Created wheel for cfdm: filename=cfdm-1.8.8.0-py3-none-any.whl size=407449 sha256=c48d0b0d34ca70ca0e44084cd8944a2ba025127156c521014df2ec5ee67007db\r\n",
      "  Stored in directory: /tmp/pip-ephem-wheel-cache-gx4qhm7w/wheels/27/2c/73/cdbe19260af467a733febd4de272ff5ea05d9cf10a7a30ab39\r\n"
     ]
    },
    {
     "name": "stdout",
     "output_type": "stream",
     "text": [
      "  Building wheel for cfunits (setup.py) ... \u001b[?25l-"
     ]
    },
    {
     "name": "stdout",
     "output_type": "stream",
     "text": [
      "\b \b\\"
     ]
    },
    {
     "name": "stdout",
     "output_type": "stream",
     "text": [
      "\b \b|"
     ]
    },
    {
     "name": "stdout",
     "output_type": "stream",
     "text": [
      "\b \bdone\r\n",
      "\u001b[?25h  Created wheel for cfunits: filename=cfunits-3.3.1-py3-none-any.whl size=152252 sha256=01cfc4d0a1740b1887bef52792c75d3ab6f763e0aacb6e3fa367334396e95617\r\n",
      "  Stored in directory: /tmp/pip-ephem-wheel-cache-gx4qhm7w/wheels/6b/aa/5b/265ba93c39db11f03cb9411bfc2516a1a64ddd81415573cead\r\n"
     ]
    },
    {
     "name": "stdout",
     "output_type": "stream",
     "text": [
      "  Building wheel for netcdf-flattener (setup.py) ... \u001b[?25l-"
     ]
    },
    {
     "name": "stdout",
     "output_type": "stream",
     "text": [
      "\b \b\\"
     ]
    },
    {
     "name": "stdout",
     "output_type": "stream",
     "text": [
      "\b \bdone\r\n",
      "\u001b[?25h  Created wheel for netcdf-flattener: filename=netcdf_flattener-1.2.0-py3-none-any.whl size=15296 sha256=20bacef20fa9a12c6374870ec08d158b8b897448cc6500c3aeaa593bd4e36ba4\r\n",
      "  Stored in directory: /tmp/pip-ephem-wheel-cache-gx4qhm7w/wheels/7a/83/e4/efdd3d8d28df6c9330cceb1376fe5187bff1cd2428162fac94\r\n",
      "Successfully built cf-python cfdm cfunits netcdf-flattener\r\n"
     ]
    },
    {
     "name": "stdout",
     "output_type": "stream",
     "text": [
      "Installing collected packages: cftime, netCDF4, netcdf-flattener, cfdm, cfunits, cf-python\r\n"
     ]
    },
    {
     "name": "stdout",
     "output_type": "stream",
     "text": [
      "Successfully installed cf-python-3.8.0 cfdm-1.8.8.0 cftime-1.4.1 cfunits-3.3.1 netCDF4-1.5.6 netcdf-flattener-1.2.0\r\n"
     ]
    },
    {
     "name": "stdout",
     "output_type": "stream",
     "text": [
      "\u001b[33mWARNING: You are using pip version 20.2.3; however, version 21.0.1 is available.\r\n",
      "You should consider upgrading via the '/usr/bin/python3 -m pip install --upgrade pip' command.\u001b[0m\r\n"
     ]
    },
    {
     "name": "stdout",
     "output_type": "stream",
     "text": [
      "Note: you may need to restart the kernel to use updated packages.\n"
     ]
    }
   ],
   "source": [
    "# pip install cf-python"
   ]
  },
  {
   "cell_type": "code",
   "execution_count": 2,
   "metadata": {
    "collapsed": false
   },
   "outputs": [
    {
     "name": "stdout",
     "output_type": "stream",
     "text": [
      "Defaulting to user installation because normal site-packages is not writeable\r\n"
     ]
    },
    {
     "name": "stdout",
     "output_type": "stream",
     "text": [
      "Collecting cf-plot\r\n"
     ]
    },
    {
     "name": "stdout",
     "output_type": "stream",
     "text": [
      "  Downloading cf-plot-3.0.38.tar.gz (162 kB)\r\n",
      "\u001b[?25l\r\u001b[K     |██                              | 10 kB 32.6 MB/s eta 0:00:01"
     ]
    },
    {
     "name": "stdout",
     "output_type": "stream",
     "text": [
      "\r\u001b[K     |████                            | 20 kB 12.2 MB/s eta 0:00:01\r\u001b[K     |██████                          | 30 kB 8.9 MB/s eta 0:00:01\r\u001b[K     |████████                        | 40 kB 3.8 MB/s eta 0:00:01\r\u001b[K     |██████████                      | 51 kB 4.6 MB/s eta 0:00:01\r\u001b[K     |████████████▏                   | 61 kB 5.1 MB/s eta 0:00:01\r\u001b[K     |██████████████▏                 | 71 kB 5.2 MB/s eta 0:00:01\r\u001b[K     |████████████████▏               | 81 kB 5.4 MB/s eta 0:00:01\r\u001b[K     |██████████████████▏             | 92 kB 5.3 MB/s eta 0:00:01\r\u001b[K     |████████████████████▏           | 102 kB 4.4 MB/s eta 0:00:01\r\u001b[K     |██████████████████████▎         | 112 kB 4.4 MB/s eta 0:00:01\r\u001b[K     |████████████████████████▎       | 122 kB 4.4 MB/s eta 0:00:01\r\u001b[K     |██████████████████████████▎     | 133 kB 4.4 MB/s eta 0:00:01\r\u001b[K     |████████████████████████████▎   | 143 kB 4.4 MB/s eta 0:00:01\r\u001b[K     |██████████████████████████████▎ | 153 kB 4.4 MB/s eta 0:00:01\r\u001b[K     |████████████████████████████████| 162 kB 4.4 MB/s \r\n"
     ]
    },
    {
     "name": "stdout",
     "output_type": "stream",
     "text": [
      "\u001b[?25hRequirement already satisfied: matplotlib>=3.1.0 in /home/user/.local/lib/python3.6/site-packages (from cf-plot) (3.2.0)\r\n"
     ]
    },
    {
     "name": "stdout",
     "output_type": "stream",
     "text": [
      "Requirement already satisfied: cf-python>=3 in /home/user/.local/lib/python3.6/site-packages (from cf-plot) (3.8.0)\r\n",
      "Requirement already satisfied: scipy>=1.4.0 in /usr/local/lib/python3.6/dist-packages (from cf-plot) (1.4.1)\r\n",
      "Requirement already satisfied: cartopy>=0.17.0 in /usr/local/lib/python3.6/dist-packages (from cf-plot) (0.18.0)\r\n",
      "Requirement already satisfied: cycler>=0.10 in /usr/lib/python3/dist-packages (from matplotlib>=3.1.0->cf-plot) (0.10.0)\r\n"
     ]
    },
    {
     "name": "stdout",
     "output_type": "stream",
     "text": [
      "Requirement already satisfied: kiwisolver>=1.0.1 in /usr/local/lib/python3.6/dist-packages (from matplotlib>=3.1.0->cf-plot) (1.2.0)\r\n",
      "Requirement already satisfied: python-dateutil>=2.1 in /usr/local/lib/python3.6/dist-packages (from matplotlib>=3.1.0->cf-plot) (2.8.1)\r\n",
      "Requirement already satisfied: numpy>=1.11 in /usr/local/lib/python3.6/dist-packages (from matplotlib>=3.1.0->cf-plot) (1.18.5)\r\n",
      "Requirement already satisfied: pyparsing!=2.0.4,!=2.1.2,!=2.1.6,>=2.0.1 in /usr/local/lib/python3.6/dist-packages (from matplotlib>=3.1.0->cf-plot) (2.4.6)\r\n",
      "Requirement already satisfied: cfunits>=3.3.1 in /home/user/.local/lib/python3.6/site-packages (from cf-python>=3->cf-plot) (3.3.1)\r\n",
      "Requirement already satisfied: cftime>=1.3.0 in /home/user/.local/lib/python3.6/site-packages (from cf-python>=3->cf-plot) (1.4.1)\r\n",
      "Requirement already satisfied: psutil>=0.6.0 in /usr/lib/python3/dist-packages (from cf-python>=3->cf-plot) (5.4.2)\r\n",
      "Requirement already satisfied: netCDF4>=1.5.3 in /home/user/.local/lib/python3.6/site-packages (from cf-python>=3->cf-plot) (1.5.6)\r\n",
      "Requirement already satisfied: cfdm<1.8.9.0,>=1.8.8.0 in /home/user/.local/lib/python3.6/site-packages (from cf-python>=3->cf-plot) (1.8.8.0)\r\n"
     ]
    },
    {
     "name": "stdout",
     "output_type": "stream",
     "text": [
      "Requirement already satisfied: shapely>=1.5.6 in /usr/local/lib/python3.6/dist-packages (from cartopy>=0.17.0->cf-plot) (1.6.4.post1)\r\n",
      "Requirement already satisfied: pyshp>=1.1.4 in /usr/local/lib/python3.6/dist-packages (from cartopy>=0.17.0->cf-plot) (2.1.0)\r\n"
     ]
    },
    {
     "name": "stdout",
     "output_type": "stream",
     "text": [
      "Requirement already satisfied: six>=1.3.0 in /usr/local/lib/python3.6/dist-packages (from cartopy>=0.17.0->cf-plot) (1.15.0)\r\n",
      "Requirement already satisfied: setuptools>=0.7.2 in /usr/local/lib/python3.6/dist-packages (from cartopy>=0.17.0->cf-plot) (49.2.1)\r\n"
     ]
    },
    {
     "name": "stdout",
     "output_type": "stream",
     "text": [
      "Requirement already satisfied: netcdf-flattener>=1.2.0 in /home/user/.local/lib/python3.6/site-packages (from cfdm<1.8.9.0,>=1.8.8.0->cf-python>=3->cf-plot) (1.2.0)\r\n",
      "Building wheels for collected packages: cf-plot\r\n"
     ]
    },
    {
     "name": "stdout",
     "output_type": "stream",
     "text": [
      "  Building wheel for cf-plot (setup.py) ... \u001b[?25l-"
     ]
    },
    {
     "name": "stdout",
     "output_type": "stream",
     "text": [
      "\b \b\\"
     ]
    },
    {
     "name": "stdout",
     "output_type": "stream",
     "text": [
      "\b \b|"
     ]
    },
    {
     "name": "stdout",
     "output_type": "stream",
     "text": [
      "\b \bdone\r\n",
      "\u001b[?25h  Created wheel for cf-plot: filename=cf_plot-3.0.38-py3-none-any.whl size=196681 sha256=68ab95de048386b6011e157d7c237d96589b172ca7a30d7807cb78b308f15947\r\n",
      "  Stored in directory: /tmp/pip-ephem-wheel-cache-u8t8mibx/wheels/b7/a2/89/4fcc48bc5948a30d5a921900497de01c8a5a65064e4d31e872\r\n",
      "Successfully built cf-plot\r\n"
     ]
    },
    {
     "name": "stdout",
     "output_type": "stream",
     "text": [
      "Installing collected packages: cf-plot\r\n"
     ]
    },
    {
     "name": "stdout",
     "output_type": "stream",
     "text": [
      "Successfully installed cf-plot-3.0.38\r\n"
     ]
    },
    {
     "name": "stdout",
     "output_type": "stream",
     "text": [
      "\u001b[33mWARNING: You are using pip version 20.2.3; however, version 21.0.1 is available.\r\n",
      "You should consider upgrading via the '/usr/bin/python3 -m pip install --upgrade pip' command.\u001b[0m\r\n"
     ]
    },
    {
     "name": "stdout",
     "output_type": "stream",
     "text": [
      "Note: you may need to restart the kernel to use updated packages.\n"
     ]
    }
   ],
   "source": [
    "# pip install cf-plot"
   ]
  },
  {
   "cell_type": "code",
   "execution_count": 3,
   "metadata": {
    "collapsed": false
   },
   "outputs": [
   ],
   "source": [
    "import numpy as np\n",
    "import matplotlib.pyplot as plt\n",
    "import matplotlib.colors as colors\n",
    "\n",
    "import cf\n",
    "import cfplot as cfp\n",
    "from netCDF4 import Dataset\n",
    "from pathlib import Path"
   ]
  },
  {
   "cell_type": "code",
   "execution_count": 4,
   "metadata": {
    "collapsed": false
   },
   "outputs": [
    {
     "name": "stdout",
     "output_type": "stream",
     "text": [
      "3.6.9\n"
     ]
    }
   ],
   "source": [
    "from platform import python_version\n",
    "\n",
    "print(python_version())"
   ]
  },
  {
   "cell_type": "markdown",
   "metadata": {
    "collapsed": false
   },
   "source": [
    "# 2. Loading the data"
   ]
  },
  {
   "cell_type": "markdown",
   "metadata": {
    "collapsed": false
   },
   "source": [
    "### Now I'll define a function that will combine the steps above to save you time."
   ]
  },
  {
   "cell_type": "markdown",
   "metadata": {
    "collapsed": false
   },
   "source": [
    "With this function you specify the experiment, variable, season and year-range that you want to analyze, and it returns the time-mean over the year-range you specify for that combination. I.e., it follows the processing steps we went through above."
   ]
  },
  {
   "cell_type": "code",
   "execution_count": 15,
   "metadata": {
    "collapsed": false
   },
   "outputs": [
   ],
   "source": [
    "def get_time_mean_data(experiment, variable, season, year_range):\n",
    "    # INPUTS FOR FUNCTION:\n",
    "    # experiment = 'control' - for the global warming scenario, or 'feedback' - for the stratospheric aerosol geoengineering experiment.\n",
    "    # Variable = 'TREFHT', 'TREFHTMX', 'PRECT', 'PRECTMX', or 'P-E'\n",
    "    # TREFHT = Temperature at the reference height (2m), i.e. air temperature\n",
    "    # TREFHTMX = The maximum recorded air temperature in a month\n",
    "    # PRECT = Precipitation rate (rain + snow)\n",
    "    # PRECTMX = The maximum recorded precipitation rate at the model timestep (30 mins)\n",
    "    # P-E = Precipitation minus total Evaporation (evaporation, transpiraton and sublimation)\n",
    "    # season = 'ann', 'djf', 'mam', 'jja', 'son' = annual-mean or season-mean\n",
    "    # year_range = [start_year, end_year], default is 75 to 94, i.e., a range of 20 years.\n",
    "    \n",
    "    if len(year_range) != 2:\n",
    "        print('year_range must have 2 elements, you inputted:', year_range)\n",
    "    \n",
    "    # Select the correct filename format and select the correct indices.\n",
    "    if experiment == 'control':\n",
    "        exp_filename = 'control.001.cam.h0.{VAR}.201001-209912.{SEAS}.nc'\n",
    "        index_range = [year_range[0] - 10, year_range[1] - 10] # starts in year 2010 so -10\n",
    "    elif experiment == 'feedback':\n",
    "        exp_filename = 'feedback.001.cam.h0.{VAR}.202001-209912.{SEAS}.nc'\n",
    "        index_range = [year_range[0] - 20, year_range[1] - 20] # starts in year 2020 so -20\n",
    "    else:\n",
    "        print(experiment, 'not recognized. must be either control or feedback')\n",
    "    \n",
    "    # Specify filename and location\n",
    "    data_dir = Path(\"data/\")\n",
    "#     data_dir = Path(\"../'Group Project'/data/\")\n",
    "    fileloc = data_dir / exp_filename.format(VAR=variable, SEAS=season) # set the correct filename by replacing var and seas with the inputs specified for the function.\n",
    "    # Open the netcdf file\n",
    "    netcdf_data = cf.read(fileloc)\n",
    "    # select the variable data. \n",
    "    data = netcdf_data[0] # index 0 is the 3-D variable stored in the file.\n",
    "    # select the years we want\n",
    "    data_years = data.subspace[index_range[0]:index_range[1],:,:]\n",
    "    # take the mean over those years\n",
    "    data_time_mean = data_years.collapse('mean', axes='T')\n",
    "    \n",
    "    # Convert the hydrological variables from from m/s to mm/day \n",
    "    if variable == 'PRECT' or variable == 'PRECTMX' or variable == 'P-E':\n",
    "#         data_time_mean = data_time_mean * 1000. * 60 * 60 * 24\n",
    "        data_time_mean.units = 'mm/day'\n",
    "    elif variable == 'TREFHT' or variable == 'TREFHTMX':\n",
    "        data_time_mean.units = cf.Units('degreesC')\n",
    "    \n",
    "    # Output this time-mean result\n",
    "    return data_time_mean"
   ]
  },
  {
   "cell_type": "markdown",
   "metadata": {
    "collapsed": false
   },
   "source": [
    "Now, let's use the function above to produce the same plot as before:"
   ]
  },
  {
   "cell_type": "code",
   "execution_count": 16,
   "metadata": {
    "collapsed": false
   },
   "outputs": [
    {
     "ename": "FileNotFoundError",
     "evalue": "[Errno 2] No such file or directory: \"../'Group Project'/data/control.001.cam.h0.TREFHT.201001-209912.ann.nc\"",
     "output_type": "error",
     "traceback": [
      "\u001b[0;31m---------------------------------------------------------------------------\u001b[0m",
      "\u001b[0;31mFileNotFoundError\u001b[0m                         Traceback (most recent call last)",
      "\u001b[0;32m<ipython-input-16-2faa0a94e009>\u001b[0m in \u001b[0;36m<module>\u001b[0;34m\u001b[0m\n\u001b[1;32m      1\u001b[0m \u001b[0;31m# We define a variable to store the time-mean output and give it a name that makes sense.\u001b[0m\u001b[0;34m\u001b[0m\u001b[0;34m\u001b[0m\u001b[0;34m\u001b[0m\u001b[0m\n\u001b[0;32m----> 2\u001b[0;31m \u001b[0mglobal_warming_trefht_ann\u001b[0m \u001b[0;34m=\u001b[0m \u001b[0mget_time_mean_data\u001b[0m\u001b[0;34m(\u001b[0m\u001b[0;34m'control'\u001b[0m\u001b[0;34m,\u001b[0m \u001b[0;34m'TREFHT'\u001b[0m\u001b[0;34m,\u001b[0m \u001b[0;34m'ann'\u001b[0m\u001b[0;34m,\u001b[0m \u001b[0;34m[\u001b[0m\u001b[0;36m75\u001b[0m\u001b[0;34m,\u001b[0m\u001b[0;36m94\u001b[0m\u001b[0;34m]\u001b[0m\u001b[0;34m)\u001b[0m\u001b[0;34m\u001b[0m\u001b[0;34m\u001b[0m\u001b[0m\n\u001b[0m\u001b[1;32m      3\u001b[0m \u001b[0;31m# Then we let the plotting routine do its thing.\u001b[0m\u001b[0;34m\u001b[0m\u001b[0;34m\u001b[0m\u001b[0;34m\u001b[0m\u001b[0m\n\u001b[1;32m      4\u001b[0m \u001b[0mcfp\u001b[0m\u001b[0;34m.\u001b[0m\u001b[0mcon\u001b[0m\u001b[0;34m(\u001b[0m\u001b[0mglobal_warming_trefht_ann\u001b[0m\u001b[0;34m)\u001b[0m\u001b[0;34m\u001b[0m\u001b[0;34m\u001b[0m\u001b[0m\n",
      "\u001b[0;32m<ipython-input-15-a5cb6c25bb6b>\u001b[0m in \u001b[0;36mget_time_mean_data\u001b[0;34m(experiment, variable, season, year_range)\u001b[0m\n\u001b[1;32m     29\u001b[0m     \u001b[0mfileloc\u001b[0m \u001b[0;34m=\u001b[0m \u001b[0mdata_dir\u001b[0m \u001b[0;34m/\u001b[0m \u001b[0mexp_filename\u001b[0m\u001b[0;34m.\u001b[0m\u001b[0mformat\u001b[0m\u001b[0;34m(\u001b[0m\u001b[0mVAR\u001b[0m\u001b[0;34m=\u001b[0m\u001b[0mvariable\u001b[0m\u001b[0;34m,\u001b[0m \u001b[0mSEAS\u001b[0m\u001b[0;34m=\u001b[0m\u001b[0mseason\u001b[0m\u001b[0;34m)\u001b[0m \u001b[0;31m# set the correct filename by replacing var and seas with the inputs specified for the function.\u001b[0m\u001b[0;34m\u001b[0m\u001b[0;34m\u001b[0m\u001b[0m\n\u001b[1;32m     30\u001b[0m     \u001b[0;31m# Open the netcdf file\u001b[0m\u001b[0;34m\u001b[0m\u001b[0;34m\u001b[0m\u001b[0;34m\u001b[0m\u001b[0m\n\u001b[0;32m---> 31\u001b[0;31m     \u001b[0mnetcdf_data\u001b[0m \u001b[0;34m=\u001b[0m \u001b[0mcf\u001b[0m\u001b[0;34m.\u001b[0m\u001b[0mread\u001b[0m\u001b[0;34m(\u001b[0m\u001b[0mfileloc\u001b[0m\u001b[0;34m)\u001b[0m\u001b[0;34m\u001b[0m\u001b[0;34m\u001b[0m\u001b[0m\n\u001b[0m\u001b[1;32m     32\u001b[0m     \u001b[0;31m# select the variable data.\u001b[0m\u001b[0;34m\u001b[0m\u001b[0;34m\u001b[0m\u001b[0;34m\u001b[0m\u001b[0m\n\u001b[1;32m     33\u001b[0m     \u001b[0mdata\u001b[0m \u001b[0;34m=\u001b[0m \u001b[0mnetcdf_data\u001b[0m\u001b[0;34m[\u001b[0m\u001b[0;36m0\u001b[0m\u001b[0;34m]\u001b[0m \u001b[0;31m# index 0 is the 3-D variable stored in the file.\u001b[0m\u001b[0;34m\u001b[0m\u001b[0;34m\u001b[0m\u001b[0m\n",
      "\u001b[0;32m~/.local/lib/python3.6/site-packages/cfdm/decorators.py\u001b[0m in \u001b[0;36mverbose_override_wrapper\u001b[0;34m(*args, **kwargs)\u001b[0m\n\u001b[1;32m    187\u001b[0m         \u001b[0;31m# enabling\u001b[0m\u001b[0;34m\u001b[0m\u001b[0;34m\u001b[0m\u001b[0;34m\u001b[0m\u001b[0m\n\u001b[1;32m    188\u001b[0m         \u001b[0;32mtry\u001b[0m\u001b[0;34m:\u001b[0m\u001b[0;34m\u001b[0m\u001b[0;34m\u001b[0m\u001b[0m\n\u001b[0;32m--> 189\u001b[0;31m             \u001b[0;32mreturn\u001b[0m \u001b[0mmethod_with_verbose_kwarg\u001b[0m\u001b[0;34m(\u001b[0m\u001b[0;34m*\u001b[0m\u001b[0margs\u001b[0m\u001b[0;34m,\u001b[0m \u001b[0;34m**\u001b[0m\u001b[0mkwargs\u001b[0m\u001b[0;34m)\u001b[0m\u001b[0;34m\u001b[0m\u001b[0;34m\u001b[0m\u001b[0m\n\u001b[0m\u001b[1;32m    190\u001b[0m         \u001b[0;32mexcept\u001b[0m \u001b[0mException\u001b[0m\u001b[0;34m:\u001b[0m\u001b[0;34m\u001b[0m\u001b[0;34m\u001b[0m\u001b[0m\n\u001b[1;32m    191\u001b[0m             \u001b[0;32mraise\u001b[0m\u001b[0;34m\u001b[0m\u001b[0;34m\u001b[0m\u001b[0m\n",
      "\u001b[0;32m~/.local/lib/python3.6/site-packages/cf/read_write/read.py\u001b[0m in \u001b[0;36mread\u001b[0;34m(files, external, verbose, warnings, ignore_read_error, aggregate, nfields, squeeze, unsqueeze, fmt, select, extra, recursive, followlinks, um, chunk, field, height_at_top_of_model, select_options, follow_symlinks, mask, warn_valid)\u001b[0m\n\u001b[1;32m    587\u001b[0m \u001b[0;34m\u001b[0m\u001b[0m\n\u001b[1;32m    588\u001b[0m             \u001b[0;32mif\u001b[0m \u001b[0;32mnot\u001b[0m \u001b[0mfiles2\u001b[0m \u001b[0;32mand\u001b[0m \u001b[0;32mnot\u001b[0m \u001b[0mignore_read_error\u001b[0m\u001b[0;34m:\u001b[0m\u001b[0;34m\u001b[0m\u001b[0;34m\u001b[0m\u001b[0m\n\u001b[0;32m--> 589\u001b[0;31m                 \u001b[0mopen\u001b[0m\u001b[0;34m(\u001b[0m\u001b[0mfile_glob\u001b[0m\u001b[0;34m,\u001b[0m \u001b[0;34m'rb'\u001b[0m\u001b[0;34m)\u001b[0m\u001b[0;34m\u001b[0m\u001b[0;34m\u001b[0m\u001b[0m\n\u001b[0m\u001b[1;32m    590\u001b[0m \u001b[0;34m\u001b[0m\u001b[0m\n\u001b[1;32m    591\u001b[0m             \u001b[0mfiles3\u001b[0m \u001b[0;34m=\u001b[0m \u001b[0;34m[\u001b[0m\u001b[0;34m]\u001b[0m\u001b[0;34m\u001b[0m\u001b[0;34m\u001b[0m\u001b[0m\n",
      "\u001b[0;31mFileNotFoundError\u001b[0m: [Errno 2] No such file or directory: \"../'Group Project'/data/control.001.cam.h0.TREFHT.201001-209912.ann.nc\""
     ]
    }
   ],
   "source": [
    "# We define a variable to store the time-mean output and give it a name that makes sense.\n",
    "global_warming_trefht_ann = get_time_mean_data('control', 'TREFHT', 'ann', [75,94])\n",
    "# Then we let the plotting routine do its thing.\n",
    "cfp.con(global_warming_trefht_ann)"
   ]
  },
  {
   "cell_type": "code",
   "execution_count": 13,
   "metadata": {
    "collapsed": false
   },
   "outputs": [
    {
     "name": "stdout",
     "output_type": "stream",
     "text": [
      "agriculture_fraction.nc\r\n",
      "area_weight.nc\r\n",
      "control.001.cam.h0.P-E.201001-209912.ann.nc\r\n",
      "control.001.cam.h0.P-E.201001-209912.djf.nc\r\n",
      "control.001.cam.h0.P-E.201001-209912.jja.nc\r\n",
      "control.001.cam.h0.P-E.201001-209912.mam.nc\r\n",
      "control.001.cam.h0.P-E.201001-209912.son.nc\r\n",
      "control.001.cam.h0.PRECT.201001-209912.ann.nc\r\n",
      "control.001.cam.h0.PRECT.201001-209912.djf.nc\r\n",
      "control.001.cam.h0.PRECT.201001-209912.jja.nc\r\n",
      "control.001.cam.h0.PRECT.201001-209912.mam.nc\r\n",
      "control.001.cam.h0.PRECT.201001-209912.son.nc\r\n",
      "control.001.cam.h0.PRECTMX.201001-209912.ann.nc\r\n",
      "control.001.cam.h0.PRECTMX.201001-209912.djf.nc\r\n",
      "control.001.cam.h0.PRECTMX.201001-209912.jja.nc\r\n",
      "control.001.cam.h0.PRECTMX.201001-209912.mam.nc\r\n",
      "control.001.cam.h0.PRECTMX.201001-209912.son.nc\r\n",
      "control.001.cam.h0.TREFHT.201001-209912.ann.nc\r\n",
      "control.001.cam.h0.TREFHT.201001-209912.djf.nc\r\n",
      "control.001.cam.h0.TREFHT.201001-209912.jja.nc\r\n",
      "control.001.cam.h0.TREFHT.201001-209912.mam.nc\r\n",
      "control.001.cam.h0.TREFHT.201001-209912.son.nc\r\n",
      "control.001.cam.h0.TREFHTMX.201001-209912.ann.nc\r\n",
      "control.001.cam.h0.TREFHTMX.201001-209912.djf.nc\r\n",
      "control.001.cam.h0.TREFHTMX.201001-209912.jja.nc\r\n",
      "control.001.cam.h0.TREFHTMX.201001-209912.mam.nc\r\n",
      "control.001.cam.h0.TREFHTMX.201001-209912.son.nc\r\n",
      "feedback.001.cam.h0.P-E.202001-209912.ann.nc\r\n",
      "feedback.001.cam.h0.P-E.202001-209912.djf.nc\r\n",
      "feedback.001.cam.h0.P-E.202001-209912.jja.nc\r\n",
      "feedback.001.cam.h0.P-E.202001-209912.mam.nc\r\n",
      "feedback.001.cam.h0.P-E.202001-209912.son.nc\r\n",
      "feedback.001.cam.h0.PRECT.202001-209912.ann.nc\r\n",
      "feedback.001.cam.h0.PRECT.202001-209912.djf.nc\r\n",
      "feedback.001.cam.h0.PRECT.202001-209912.jja.nc\r\n",
      "feedback.001.cam.h0.PRECT.202001-209912.mam.nc\r\n",
      "feedback.001.cam.h0.PRECT.202001-209912.son.nc\r\n",
      "feedback.001.cam.h0.PRECTMX.202001-209912.ann.nc\r\n",
      "feedback.001.cam.h0.PRECTMX.202001-209912.djf.nc\r\n",
      "feedback.001.cam.h0.PRECTMX.202001-209912.jja.nc\r\n",
      "feedback.001.cam.h0.PRECTMX.202001-209912.mam.nc\r\n",
      "feedback.001.cam.h0.PRECTMX.202001-209912.son.nc\r\n",
      "feedback.001.cam.h0.TREFHT.202001-209912.ann.nc\r\n",
      "feedback.001.cam.h0.TREFHT.202001-209912.djf.nc\r\n",
      "feedback.001.cam.h0.TREFHT.202001-209912.jja.nc\r\n",
      "feedback.001.cam.h0.TREFHT.202001-209912.mam.nc\r\n",
      "feedback.001.cam.h0.TREFHT.202001-209912.son.nc\r\n",
      "feedback.001.cam.h0.TREFHTMX.202001-209912.ann.nc\r\n",
      "feedback.001.cam.h0.TREFHTMX.202001-209912.djf.nc\r\n",
      "feedback.001.cam.h0.TREFHTMX.202001-209912.jja.nc\r\n",
      "feedback.001.cam.h0.TREFHTMX.202001-209912.mam.nc\r\n",
      "feedback.001.cam.h0.TREFHTMX.202001-209912.son.nc\r\n",
      "land_fraction.nc\r\n",
      "population.nc\r\n"
     ]
    }
   ],
   "source": [
    "! ls ../'Group Project'/data"
   ]
  },
  {
   "cell_type": "markdown",
   "metadata": {
    "collapsed": false
   },
   "source": [
    "### Our plot shows annual-mean ('ann') temperature ('TREFHT') over the years 2075 to 2094 inclusive ([75,94]) for the experiment 'Control'\n",
    "\n",
    "Great, but knowing what end of century absolute temperatures are in this model doesn't tell us much, let's look at changes in temperature."
   ]
  },
  {
   "cell_type": "markdown",
   "metadata": {
    "collapsed": false
   },
   "source": [
    "# 3. Plotting a change in climate"
   ]
  },
  {
   "cell_type": "markdown",
   "metadata": {
    "collapsed": false
   },
   "source": [
    "### TASK 3.1: produce plots to show how the change in temperature over the 21st century under the global warming and solar geoengineering scenarios."
   ]
  },
  {
   "cell_type": "markdown",
   "metadata": {
    "collapsed": false
   },
   "source": [
    "In this practical we'll be comparing 3 different cases:\n",
    "- **baseline**: the climate of today, 2010 - 2029 in the control experiment\n",
    "- **global_warming**: the late 21st century in our global warming scenario: 2075 - 2094 in the control experiment. \n",
    "- **solar_geo**: the late 21st century in our stratospheric aerosol geoengineering experiment: 2075 - 2094 in the feedback experiment."
   ]
  },
  {
   "cell_type": "markdown",
   "metadata": {
    "collapsed": false
   },
   "source": [
    "First, I'll plot the temperature change between the global warming case and the baseline. Then you will do the same for the temperature change between the solar_geo case and the baseline."
   ]
  },
  {
   "cell_type": "code",
   "execution_count": 0,
   "metadata": {
    "collapsed": false
   },
   "outputs": [
   ],
   "source": [
    "# As before, we define a variable to store the time-mean output and give it a name that makes sense.\n",
    "global_warming_data = get_time_mean_data('control', 'TREFHT', 'ann', [75,94])\n",
    "baseline_data = get_time_mean_data('control', 'TREFHT', 'ann', [10,29])\n",
    "# We can directly plot the anomaly by subtracting one from the other, and asking cfp.con to plot the result.\n",
    "cfp.con(global_warming_data - baseline_data)"
   ]
  },
  {
   "cell_type": "code",
   "execution_count": 0,
   "metadata": {
    "collapsed": false
   },
   "outputs": [
   ],
   "source": [
    "# COPY THE CODE FROM ABOVE AND MODIFY IT SO THAT YOU CAN PLOT THE TEMPERATURE DIFFERENCE BETWEEN THE SOLAR GEO CASE AND THE BASELINE. I RECOMMEND USING THE SAME SHORT-HAND THAT I'VE USED, I.E., solar_geo, SO THAT YOU HAVE CONSISTENT NAMES FOR YOUR VARIABLES.\n",
    "solar_geo_data = get_time_mean_data('feedback', 'TREFHT', 'ann', [75,94])\n",
    "baseline_data = get_time_mean_data('control', 'TREFHT', 'ann', [10,29])\n",
    "cfp.con(solar_geo_data - baseline_data)"
   ]
  },
  {
   "cell_type": "markdown",
   "metadata": {
    "collapsed": false
   },
   "source": [
    "### TASK 3.2: produce NICE plots to showing the change in temperature over the 21st century under the global warming and solar geoengineering scenarios.\n",
    "To compare the temperature changes between these two future cases it is useful to plot them with the same colorbars.\n",
    "\n",
    "Add lines to plot the solar geo case into the code box below."
   ]
  },
  {
   "cell_type": "code",
   "execution_count": 0,
   "metadata": {
    "collapsed": false
   },
   "outputs": [
   ],
   "source": [
    "# let's set the variable and season to plot. defining a variable means we don't have to repeat ourselves and there's less chance of making mistakes.\n",
    "var_2_plot = 'TREFHT'\n",
    "seas_2_plot = 'ann'\n",
    "\n",
    "# Gather the annual-mean temperature data for the 3 cases\n",
    "global_warming_data = get_time_mean_data('control', var_2_plot, seas_2_plot, [75,94])\n",
    "baseline_data = get_time_mean_data('control', var_2_plot, seas_2_plot, [10,29])\n",
    "# ADD YOUR LINE FOR THE SOLAR GEO CASE HERE\n",
    "solar_geo_data = get_time_mean_data('feedback', var_2_plot, seas_2_plot, [75,94])\n",
    "# Now we define the anomaly (difference) between the future and baseline cases.\n",
    "global_warming_anom = global_warming_data - baseline_data\n",
    "# ADD YOUR LINE FOR THE SOLAR GEO ANOMALY HERE\n",
    "solar_geo_anom = solar_geo_data - baseline_data\n",
    "\n",
    "# Now, we set the contours and colorbar settings.\n",
    "# cfp.levs() defines the levels for the contourplot, leaving it blank let's the program choose the levels itself. Any values set here will be used in later plots but this can be reset by making a blank call with cfp.levs().\n",
    "cfp.levs(min=-5,max=15,step=5)\n",
    "# cfp.cscale() defines the colorscale for the contourplot, leaving it blank let's the program choose the colour scale itself.\n",
    "cfp.cscale('scale1') # We'll use scale1 which goes from blue through white to red, a good colour scale for temperature change.\n",
    "\n",
    "# Now we make the contour plots\n",
    "cfp.con(global_warming_anom)\n",
    "# ADD YOUR LINE FOR THE SOLAR GEO ANOMALY CONTOUR PLOT HERE\n",
    "cfp.con(solar_geo_anom)"
   ]
  },
  {
   "cell_type": "markdown",
   "metadata": {
    "collapsed": false
   },
   "source": [
    "You should now have 2 ugly-looking plots that don't tell you much. The plots have no titles, the contour levels are too far apart and the colors are off. Let's fix that.\n",
    "- Copy the code from above into the section below. \n",
    "- replace the line: \"cfp.con(global_warming_anom)\" with \"cfp.con(global_warming_anom, title='global warming - baseline Temperature Change (K)')\" to add a title to that plot.\n",
    "- Using the same approach, add a title to the solar geoengineering anom plot\n",
    "- in the line: cfp.levs(...), Change the values of min, max and step to cover the full range (or near-enough) for both anomalies and have a reasonable step-size. HINT: The earlier plots show the range of values for each anomaly. HINT2: the step-size needs to be small enough that you can see details, but not so small that the labels overrun each other or the plot becomes to busy to read.\n",
    "\n",
    "For the colors to look right the levels have to be symmetric, e.g. -3 to +3, OR we need to tell the colorscale how to line up with the levels we want to plot. \n",
    "- if you have an asymmetric colorscale replace the line \"cfp.cscale('scale1')\" with \"cfp.cscale('scale1', below=X, above=Y)\" where X is the number of steps from zero to your minimum + 1 (for the less than extension of the colorscale), and Y is the number of steps from zero to your maximum + 1."
   ]
  },
  {
   "cell_type": "code",
   "execution_count": 0,
   "metadata": {
    "collapsed": false
   },
   "outputs": [
   ],
   "source": [
    "# COPY YOUR CODE FROM ABOVE AND MODIFY IT.\n",
    "# Example solution\n",
    "\n",
    "# let's set the variable to plot. defining a variable means we don't have to repeat ourselves and there's less chance of making mistakes.\n",
    "var_2_plot = 'TREFHT'\n",
    "seas_2_plot = 'ann'\n",
    "\n",
    "# Gather the annual-mean temperature data for the 3 cases\n",
    "global_warming_data = get_time_mean_data('control', var_2_plot, seas_2_plot, [75,94])\n",
    "baseline_data = get_time_mean_data('control', var_2_plot, seas_2_plot, [10,29])\n",
    "solar_geo_data = get_time_mean_data('feedback', var_2_plot, seas_2_plot, [75,94])\n",
    "\n",
    "# Now we define the anomaly (difference) between the future and baseline cases.\n",
    "global_warming_anom = global_warming_data - baseline_data\n",
    "solar_geo_anom = solar_geo_data - baseline_data\n",
    "\n",
    "# Now, we set the contours and colorbar settings.\n",
    "# cfp.levs() defines the levels for the contourplot, leaving it blank let's the program choose the levels itself. Any values set here will be used in later plots but this can be reset by making a blank call with cfp.levs().\n",
    "cfp.levs(min=-4,max=12,step=1)\n",
    "# cfp.cscale() defines the colorscale for the contourplot, leaving it blank let's the program choose the colour scale itself.\n",
    "cfp.cscale('scale1', below=5, above=13) # We'll use scale1 which goes from blue through white to red, a good colour scale for temperature change.\n",
    "\n",
    "# Now we plot the contour plots.\n",
    "cfp.con(global_warming_anom, title='global warming - baseline Temperature Change (K)')\n",
    "cfp.con(solar_geo_anom, title='solar geoengineering - baseline Temperature Change (K)')"
   ]
  },
  {
   "cell_type": "markdown",
   "metadata": {
    "collapsed": false
   },
   "source": [
    "If that worked you should have some publication-quality maps! Exactly the kind of thing you will want for your report..."
   ]
  },
  {
   "cell_type": "markdown",
   "metadata": {
    "collapsed": false
   },
   "source": [
    "## TASK 3.3: Write a figure caption for these two plots.\n",
    "\n",
    "HINT: Check out Figure 6 in the GLENS paper linked to at the top.\n",
    "\n",
    "HINT2: Don't plagiarize the text, I'll be running your reports through Turnitin.\n",
    "\n",
    "HINT3: We are only looking at a single ensemble member rather than the entire ensemble.\n"
   ]
  },
  {
   "cell_type": "markdown",
   "metadata": {
    "collapsed": false
   },
   "source": [
    "YOUR FIGURE CAPTION HERE.\n",
    "Figure 1. Change in temperature over the 21st century under the global warming and solar geoengineering scenarios.\n",
    "(a)GWR(2075-2094)-BLS(2010-2029)\n",
    "(b)GEOENGINEERING(2075-2094) - BLS(2010-2029)"
   ]
  },
  {
   "cell_type": "markdown",
   "metadata": {
    "collapsed": false
   },
   "source": [
    "## TASK 3.4: Repeat the above for maximum temperature.\n",
    "Copy the code section from above and edit it to produce plots of the change in maximum annual temperature (TREFHTMX). You'll probably need to change the colourbar range to make it look nice."
   ]
  },
  {
   "cell_type": "code",
   "execution_count": 0,
   "metadata": {
    "collapsed": false
   },
   "outputs": [
   ],
   "source": [
    "# YOUR MAX TEMP MAP PLOT CODE HERE.\n",
    "\n",
    "# let's set the variable to plot. defining a variable means we don't have to repeat ourselves and there's less chance of making mistakes.\n",
    "var_2_plot = 'TREFHTMX'\n",
    "seas_2_plot = 'ann'\n",
    "\n",
    "# Gather the annual-mean temperature data for the 3 cases\n",
    "global_warming_data = get_time_mean_data('control', var_2_plot, seas_2_plot, [75,94])\n",
    "baseline_data = get_time_mean_data('control', var_2_plot, seas_2_plot, [10,29])\n",
    "solar_geo_data = get_time_mean_data('feedback', var_2_plot, seas_2_plot, [75,94])\n",
    "\n",
    "# Now we define the anomaly (difference) between the future and baseline cases.\n",
    "global_warming_anom = global_warming_data - baseline_data\n",
    "solar_geo_anom = solar_geo_data - baseline_data\n",
    "\n",
    "# Now, we set the contours and colorbar settings.\n",
    "# cfp.levs() defines the levels for the contourplot, leaving it blank let's the program choose the levels itself. Any values set here will be used in later plots but this can be reset by making a blank call with cfp.levs().\n",
    "cfp.levs(min=-23,max=14,step=1)\n",
    "# cfp.cscale() defines the colorscale for the contourplot, leaving it blank let's the program choose the colour scale itself.\n",
    "cfp.cscale('scale1', below=24, above=15) # We'll use scale1 which goes from blue through white to red, a good colour scale for temperature change.\n",
    "\n",
    "# Now we plot the contour plots.\n",
    "cfp.con(global_warming_anom, title='global warming - baseline Temperature Change (K)')\n",
    "cfp.con(solar_geo_anom, title='solar geoengineering - baseline Temperature Change (K)')"
   ]
  },
  {
   "cell_type": "markdown",
   "metadata": {
    "collapsed": false
   },
   "source": [
    "YOUR MAX TEMP FIGURE CAPTION HERE.\n",
    "Figure 2. Change in maximum temperature over the 21st century under the global warming and solar geoengineering scenarios.\n",
    "(a)GWM (2075-2094)- BLS(2010-2029)\n",
    "(b)GEOENGINEERING(2075-2094) - BLS(2010-2029)"
   ]
  },
  {
   "cell_type": "markdown",
   "metadata": {
    "collapsed": false
   },
   "source": [
    "## Section 4: Plotting hydrological change\n",
    "\n",
    "## TASK 4.1: Picking a good colourscale and colorbar settings for hydrological change.\n",
    "\n",
    "Red for hot, positive trends and blue for cold, negative trends works great for temperature but positive trends equal more water for hydrological variables so it'll be a bit confusing if hot, red colours = wetter. So, let's pick another colourscale.\n",
    "\n",
    "- Copy the code section above and this time plot precipitation change, 'PRECT'.\n",
    "- Change the colourscale to 'BrownBlue12'\n",
    "- Adjust the levels plotted and / or the number of colours above / below 0 as before to produce a nice-looking plot. HINT: it's OK to not plot the full range of data. \n",
    "- Change the title and add a colorbar label by adding: \", colorbar_title='Precipitation Change (mm/day)'\" to the cfp.con() call.\n",
    "- Optionally, you can remove the black lines from the contour plots by adding: \", lines=False\" to the end of the calls to cfp.con(). This can be useful if you have well-separated contours in some places but tightly packed lines in others that make it hard to see."
   ]
  },
  {
   "cell_type": "code",
   "execution_count": 0,
   "metadata": {
    "collapsed": false,
    "scrolled": true
   },
   "outputs": [
   ],
   "source": [
    "# COPY YOUR CODE FROM ABOVE AND MODIFY IT.\n",
    "# Example solution\n",
    "\n",
    "# let's set the variable to plot. defining a variable means we don't have to repeat ourselves and there's less chance of making mistakes.\n",
    "var_2_plot = 'PRECT'\n",
    "seas_2_plot = 'ann'\n",
    "\n",
    "# Gather the annual-mean temperature data for the 3 cases\n",
    "global_warming_data = get_time_mean_data('control', var_2_plot, seas_2_plot, [75,94])\n",
    "baseline_data = get_time_mean_data('control', var_2_plot, seas_2_plot, [10,29])\n",
    "solar_geo_data = get_time_mean_data('feedback', var_2_plot, seas_2_plot, [75,94])\n",
    "\n",
    "# Now we define the anomaly (difference) between the future and baseline cases.\n",
    "global_warming_anom = global_warming_data - baseline_data\n",
    "solar_geo_anom = solar_geo_data - baseline_data\n",
    "\n",
    "# Now, we set the contours and colorbar settings.\n",
    "# cfp.levs() defines the levels for the contourplot, leaving it blank let's the program choose the levels itself. Any values set here will be used in later plots but this can be reset by making a blank call with cfp.levs().\n",
    "cfp.levs(min=-2,max=2,step=0.2)\n",
    "# cfp.cscale() defines the colorscale for the contourplot, leaving it blank let's the program choose the colour scale itself.\n",
    "cfp.cscale('BrownBlue12')\n",
    "# cfp.cscale('scale1', below=5, above=13) # We'll use scale1 which goes from blue through white to red, a good colour scale for temperature change.\n",
    "\n",
    "# Now we plot the contour plots.\n",
    "cfp.con(global_warming_anom, title='global warming - Precipitation Change (mm/day)', lines=False, colorbar_title='Precipitation Change (mm/day)')\n",
    "cfp.con(solar_geo_anom, title='solar geoengineering - Precipitation Change (mm/day)', lines=False, colorbar_title='Precipitation Change (mm/day)')"
   ]
  },
  {
   "cell_type": "markdown",
   "metadata": {
    "collapsed": false
   },
   "source": [
    "## TASK 4.2: Plotting percentage change for hydrological variables.\n",
    "\n",
    "The problem with plotting absolute changes in hydrological variables is that some regions get several mm of rain per day on average whereas others get only mm per year on average.\n",
    "\n",
    "Below is some code to plot percentage changes, run it. then follow the instructions afterwards to tidy it up."
   ]
  },
  {
   "cell_type": "code",
   "execution_count": 0,
   "metadata": {
    "collapsed": false
   },
   "outputs": [
   ],
   "source": [
    "# let's set the variable to plot. defining a variable means we don't have to repeat ourselves and there's less chance of making mistakes.\n",
    "var_2_plot = 'PRECT'\n",
    "seas_2_plot = 'ann'\n",
    "\n",
    "# Gather the annual-mean temperature data for the 3 cases\n",
    "global_warming_data = get_time_mean_data('control', var_2_plot, seas_2_plot, [75,94])\n",
    "baseline_data = get_time_mean_data('control', var_2_plot, seas_2_plot, [10,29])\n",
    "solar_geo_data = get_time_mean_data('feedback', var_2_plot, seas_2_plot, [75,94])\n",
    "\n",
    "# Now we define the anomaly (difference) between the future and baseline cases.\n",
    "global_warming_pc_anom = 100. * (global_warming_data / baseline_data - 1.0)\n",
    "solar_geo_pc_anom = 100. * (solar_geo_data / baseline_data - 1.0)\n",
    "\n",
    "# Now, we set the contours and colorbar settings.\n",
    "# cfp.levs() defines the levels for the contourplot, leaving it blank let's the program choose the levels itself. Any values set here will be used in later plots but this can be reset by making a blank call with cfp.levs().\n",
    "cfp.levs()\n",
    "# cfp.cscale() defines the colorscale for the contourplot, leaving it blank let's the program choose the colour scale itself.\n",
    "cfp.cscale()\n",
    "\n",
    "# Now we plot the contour plots.\n",
    "cfp.con(global_warming_pc_anom, title='global warming - Precipitation Change (%)', colorbar_title='Precipitation Change (%)')\n",
    "cfp.con(solar_geo_pc_anom, title='solar geoengineering - Precipitation Change (%)', colorbar_title='Precipitation Change (%)')\n",
    "\n",
    "cfp.levs(manual=[0.,0.1, 0.2, 0.5, 1., 2., 4., 8., 16., 32.],extend='max')\n",
    "cfp.cscale('precip_11lev')\n",
    "cfp.con(baseline_data, title='Baseline Precipitation (mm/day)', colorbar_title='Precipitation (mm/day)')"
   ]
  },
  {
   "cell_type": "markdown",
   "metadata": {
    "collapsed": false
   },
   "source": [
    "We've got 3 plots, 2 % changes and the baseline precipitation, as it's good to have this for reference to help interpret the percentage changes.\n",
    "\n",
    "There are a couple of problems though. Go back and edit the code above to sort out the colorbars.\n",
    "- The % change plots are being messed up by an extreme % change in the Sahara. This will be due to some region seeing something like 0.001 mm/day before now seeing 0.01 mm/day. We want to have a scale that suits the full area plotted, so change the range and step size to make a clearer plot.\n",
    "- The absolute precipitation plot for the baseline has a similar issue, there is some extreme location with >32 mm/day of rain. Again, we want to have a colorbar range suitable for the whole world. Let's be fancy and use a customized logarithmic precipitation scale that will work for deserts and rainforests. replace the cfp.levs() and cfp.cscale() lines with the following:\n",
    "\n",
    "cfp.levs(manual=[0.,0.1, 0.2, 0.5, 1., 2., 4., 8., 16., 32.], extend='max')\n",
    "\n",
    "cfp.cscale('precip_11lev')"
   ]
  },
  {
   "cell_type": "markdown",
   "metadata": {
    "collapsed": false
   },
   "source": [
    "## Task 4.3: Blockiness.\n",
    "\n",
    "These contour plots produce smooth contours but the data underneath is blocky. The model used only has a resolution of 1 degree in longitude and latitude, so let's see what the actual data shows.\n",
    "\n",
    "- copy the code section from above and add the following to each cfp.con() call: \", blockfill=True, lines=False\""
   ]
  },
  {
   "cell_type": "code",
   "execution_count": 0,
   "metadata": {
    "collapsed": false
   },
   "outputs": [
   ],
   "source": [
    "# Example solution\n",
    "\n",
    "# let's set the variable to plot. defining a variable means we don't have to repeat ourselves and there's less chance of making mistakes.\n",
    "var_2_plot = 'PRECT'\n",
    "seas_2_plot = 'ann'\n",
    "\n",
    "# Gather the annual-mean temperature data for the 3 cases\n",
    "global_warming_data = get_time_mean_data('control', var_2_plot, seas_2_plot, [75,94])\n",
    "baseline_data = get_time_mean_data('control', var_2_plot, seas_2_plot, [10,29])\n",
    "solar_geo_data = get_time_mean_data('feedback', var_2_plot, seas_2_plot, [75,94])\n",
    "\n",
    "# Now we define the anomaly (difference) between the future and baseline cases.\n",
    "global_warming_pc_anom = 100. * (global_warming_data / baseline_data - 1.0)\n",
    "solar_geo_pc_anom = 100. * (solar_geo_data / baseline_data - 1.0)\n",
    "\n",
    "# Now, we set the contours and colorbar settings.\n",
    "# cfp.levs() defines the levels for the contourplot, leaving it blank let's the program choose the levels itself. Any values set here will be used in later plots but this can be reset by making a blank call with cfp.levs().\n",
    "cfp.levs()\n",
    "# cfp.cscale() defines the colorscale for the contourplot, leaving it blank let's the program choose the colour scale itself.\n",
    "cfp.cscale()\n",
    "\n",
    "# Now we plot the contour plots.\n",
    "cfp.con(global_warming_pc_anom, title='global warming - Precipitation Change (%)', colorbar_title='Precipitation Change (%)', blockfill=True, lines=False)\n",
    "cfp.con(solar_geo_pc_anom, title='solar geoengineering - Precipitation Change (%)', colorbar_title='Precipitation Change (%)', blockfill=True, lines=False)\n",
    "\n",
    "cfp.levs()\n",
    "cfp.cscale()\n",
    "cfp.con(baseline_data, title='Baseline Precipitation (mm/day)', colorbar_title='Precipitation (mm/day)', blockfill=False, lines=False)"
   ]
  },
  {
   "cell_type": "markdown",
   "metadata": {
    "collapsed": false
   },
   "source": [
    "This resolution issue isn't a big problem at the global level but it will be once you zoom in to your region so it will be worthwhile using this block_fill option to avoid over-interpreting your data."
   ]
  },
  {
   "cell_type": "markdown",
   "metadata": {
    "collapsed": false
   },
   "source": [
    "## Task 5. Regional plots\n",
    "\n",
    "Producing regional plots is pretty straight-forward, all you need to do is specify the latitude and longitude in the cfp.mapset function. NOTE like the levels and colourscale functions this is a persistent change that will affect all subsequent plots so if you want to plot somewhere else after, you will have to reset it with an empty call: cfp.mapset().\n",
    "- Copy your blocky percentage change plot below.\n",
    "- Add the line: cfp.mapset(lonmin=lon_min, lonmax=lon_max, latmin=lat_min, latmax=lat_max) before the first cfp.con() call.\n",
    "- Then specify lon_max = XXX, etc. for these 4 variables, replacing the XXX's with appropriate values so that you can plot regional changes around the UK."
   ]
  },
  {
   "cell_type": "code",
   "execution_count": 0,
   "metadata": {
    "collapsed": false
   },
   "outputs": [
   ],
   "source": [
    "# YOUR CODE HERE\n",
    "# let's set the variable to plot. defining a variable means we don't have to repeat ourselves and there's less chance of making mistakes.\n",
    "var_2_plot = 'PRECT'\n",
    "seas_2_plot = 'ann'\n",
    "\n",
    "# Gather the annual-mean temperature data for the 3 cases\n",
    "global_warming_data = get_time_mean_data('control', var_2_plot, seas_2_plot, [75,94])\n",
    "baseline_data = get_time_mean_data('control', var_2_plot, seas_2_plot, [10,29])\n",
    "solar_geo_data = get_time_mean_data('feedback', var_2_plot, seas_2_plot, [75,94])\n",
    "\n",
    "# Now we define the anomaly (difference) between the future and baseline cases.\n",
    "global_warming_pc_anom = 100. * (global_warming_data / baseline_data - 1.0)\n",
    "solar_geo_pc_anom = 100. * (solar_geo_data / baseline_data - 1.0)\n",
    "\n",
    "# Now, we set the contours and colorbar settings.\n",
    "# cfp.levs() defines the levels for the contourplot, leaving it blank let's the program choose the levels itself. Any values set here will be used in later plots but this can be reset by making a blank call with cfp.levs().\n",
    "cfp.levs()\n",
    "# cfp.cscale() defines the colorscale for the contourplot, leaving it blank let's the program choose the colour scale itself.\n",
    "cfp.cscale()\n",
    "lon_min = -7.2\n",
    "lon_max = 2.5\n",
    "lat_min = 50\n",
    "lat_max = 61\n",
    "cfp.mapset(lonmin=lon_min, lonmax=lon_max, latmin=lat_min, latmax=lat_max)\n",
    "\n",
    "# Now we plot the contour plots.\n",
    "cfp.con(global_warming_pc_anom, title='global warming - Precipitation Change (%)', colorbar_title='Precipitation Change (%)', blockfill=True, lines=False)\n",
    "cfp.con(solar_geo_pc_anom, title='solar geoengineering - Precipitation Change (%)', colorbar_title='Precipitation Change (%)', blockfill=True, lines=False)\n",
    "\n",
    "cfp.levs()\n",
    "cfp.cscale()\n",
    "cfp.con(baseline_data, title='Baseline Precipitation (mm/day)', colorbar_title='Precipitation (mm/day)', blockfill=True, lines=False)"
   ]
  },
  {
   "cell_type": "markdown",
   "metadata": {
    "collapsed": false
   },
   "source": [
    "The colourbars will be a bit off but you get the picture."
   ]
  },
  {
   "cell_type": "markdown",
   "metadata": {
    "collapsed": false
   },
   "source": [
    "## Task 6. Outputting plots as png files.\n",
    "\n",
    "To save image files you'll need to add a couple of lines telling the program to output the graphics to file:\n",
    "- Copy any of the code sections above to the section below.\n",
    "- put the line: cfp.gopen(file='MY_DESCRIPTIVE_FILENAME.png') just before the first cfp calls associated with your map.\n",
    "- change the filename!\n",
    "- put the line: cfp.gclose() after the end of the cfp calls associated with your map.\n",
    "If it works, you won't see the image pop up in the notebook, you'll have to check the folder. It's probably best to comment out these gopen and gclose lines while you're editing the map and only put them in when finished."
   ]
  },
  {
   "cell_type": "code",
   "execution_count": 0,
   "metadata": {
    "collapsed": false
   },
   "outputs": [
   ],
   "source": [
    "# YOUR CODE HERE.\n",
    "# let's set the variable to plot. defining a variable means we don't have to repeat ourselves and there's less chance of making mistakes.\n",
    "var_2_plot = 'PRECT'\n",
    "seas_2_plot = 'ann'\n",
    "\n",
    "# Gather the annual-mean temperature data for the 3 cases\n",
    "global_warming_data = get_time_mean_data('control', var_2_plot, seas_2_plot, [75,94])\n",
    "baseline_data = get_time_mean_data('control', var_2_plot, seas_2_plot, [10,29])\n",
    "solar_geo_data = get_time_mean_data('feedback', var_2_plot, seas_2_plot, [75,94])\n",
    "\n",
    "# Now we define the anomaly (difference) between the future and baseline cases.\n",
    "global_warming_pc_anom = 100. * (global_warming_data / baseline_data - 1.0)\n",
    "solar_geo_pc_anom = 100. * (solar_geo_data / baseline_data - 1.0)\n",
    "\n",
    "# Now, we set the contours and colorbar settings.\n",
    "# cfp.levs() defines the levels for the contourplot, leaving it blank let's the program choose the levels itself. Any values set here will be used in later plots but this can be reset by making a blank call with cfp.levs().\n",
    "\n",
    "cfp.levs()\n",
    "# cfp.cscale() defines the colorscale for the contourplot, leaving it blank let's the program choose the colour scale itself.\n",
    "cfp.cscale()\n",
    "lon_min = -7.2\n",
    "lon_max = 2.5\n",
    "lat_min = 50\n",
    "lat_max = 61\n",
    "cfp.mapset(lonmin=lon_min, lonmax=lon_max, latmin=lat_min, latmax=lat_max)\n",
    "\n",
    "# Now we plot the contour plots.\n",
    "cfp.gopen(file='PRECT_gw-base_pc.png')\n",
    "cfp.con(global_warming_pc_anom, title='global warming - Precipitation Change (%)', colorbar_title='Precipitation Change (%)', blockfill=True, lines=False)\n",
    "cfp.gclose(view=True)\n",
    "\n",
    "cfp.gopen(file='PRECT_sg-base_pc.png')\n",
    "cfp.con(solar_geo_pc_anom, title='solar geoengineering - Precipitation Change (%)', colorbar_title='Precipitation Change (%)', blockfill=True, lines=False)\n",
    "cfp.gclose(view=True)\n",
    "\n",
    "cfp.levs()\n",
    "cfp.cscale()\n",
    "cfp.gopen(file='PRECT_base.png')\n",
    "cfp.con(baseline_data, title='Baseline Precipitation (mm/day)', colorbar_title='Precipitation (mm/day)', blockfill=True, lines=False)\n",
    "cfp.gclose(view=True)"
   ]
  },
  {
   "cell_type": "markdown",
   "metadata": {
    "collapsed": false
   },
   "source": [
    "## Fantastic, now you have everything you need to produce high-quality map plots for your group project!\n",
    "\n",
    "If you want to get a bit fancier, you can try some of the following stuff which you could try implementing in your project.\n",
    "\n",
    "Browse through these as I've put them in no particular order, and some are more involved than others"
   ]
  },
  {
   "cell_type": "markdown",
   "metadata": {
    "collapsed": false
   },
   "source": [
    "## Extra 1. Land-area-weighted regional means.\n",
    "\n",
    "This function is a two-for-one, it subspaces the region of interest and it calculates the land-area weighted mean over the area plotted."
   ]
  },
  {
   "cell_type": "code",
   "execution_count": 0,
   "metadata": {
    "collapsed": false
   },
   "outputs": [
   ],
   "source": [
    "def get_regional_data_and_mean(experiment, variable, season, lon_range, lat_range, year_range):\n",
    "    # calculates the regional time mean.\n",
    "    # Same inputs as get_time_mean_data but also you must specify:\n",
    "    # lat_range = [lat_min, lat_max], e.g, [20, 35]\n",
    "    # lon_range = [lon_min, lon_max], e.g, [100, 135]\n",
    "    \n",
    "    if len(year_range) != 2 or len(lon_range) != 2 or len(lat_range) != 2:\n",
    "        print('year_range, lon_range, lat_range must have 2 elements, you inputted:', year_range, lon_range, lat_range)\n",
    "    \n",
    "    # Select the correct filename format and select the correct indices.\n",
    "    if experiment == 'control':\n",
    "        exp_filename = 'control.001.cam.h0.{VAR}.201001-209912.{SEAS}.nc'\n",
    "        index_range = [year_range[0] - 10, year_range[1] - 10] # starts in year 2010 so -10\n",
    "    elif experiment == 'feedback':\n",
    "        exp_filename = 'feedback.001.cam.h0.{VAR}.202001-209912.{SEAS}.nc'\n",
    "        index_range = [year_range[0] - 20, year_range[1] - 20] # starts in year 2020 so -20\n",
    "    else:\n",
    "        print(experiment, 'not recognized. must be either control or feedback')\n",
    "    \n",
    "    # Specify filename and location for the data\n",
    "    data_dir = Path(\"data/\")\n",
    "    fileloc = data_dir / exp_filename.format(VAR=variable, SEAS=season) # set the correct filename by replacing var and seas with the inputs specified for the function.\n",
    "    # Open the netcdf file\n",
    "    netcdf_data = cf.read(fileloc)\n",
    "    # select the variable data. \n",
    "    data = netcdf_data[0] # index 0 is the 3-D variable stored in the file.\n",
    "    data.cyclic('X') # set longitude to be cyclic\n",
    "    # select the years we want\n",
    "    data_years = data.subspace[index_range[0]:index_range[1],:,:]\n",
    "    # take the mean over those years\n",
    "    data_time_mean = data_years.collapse('mean', axes='T', squeeze=True)\n",
    "    # Select only that data in our target area.\n",
    "    data_time_mean_region = data_time_mean.subspace(X=cf.wi(lon_range[0], lon_range[1]), Y=cf.wi(lat_range[0],lat_range[1]))\n",
    "    \n",
    "    # Convert the hydrological variables from from m/s to mm/day \n",
    "    if variable == 'PRECT' or variable == 'PRECTMX' or variable == 'P-E':\n",
    "        data_time_mean_region.units = 'mm/day'\n",
    "    elif variable == 'TREFHT' or variable == 'TREFHTMX':\n",
    "        data_time_mean_region.units = cf.Units('degreesC')\n",
    "    \n",
    "    # Now, let's load up the weightings.\n",
    "    # Load up the gridcell weights (fraction of global area)\n",
    "    area_weight_fileloc = data_dir / 'area_weight.nc' \n",
    "    weight_nc_data = cf.read(area_weight_fileloc)\n",
    "    weight_data = weight_nc_data[0]\n",
    "\n",
    "    # Load up the gridcell land fraction\n",
    "    land_frac_fileloc = data_dir / 'land_fraction.nc' \n",
    "    land_frac_nc_data = cf.read(land_frac_fileloc)\n",
    "    land_frac_data = 0.01 * land_frac_nc_data[0] # convert from % to fraction, so that this totals to 1.\n",
    "\n",
    "    # Take the product of gridcell weight and land fraction\n",
    "    land_weight_data = weight_data * land_frac_data\n",
    "    \n",
    "    # Weight the gridcells in our target area so that they sum to one.\n",
    "    land_weight_data_space = land_weight_data.subspace(X=cf.wi(lon_range[0], lon_range[1]), Y=cf.wi(lat_range[0],lat_range[1]))\n",
    "    land_weight_data_space_array = land_weight_data_space.array / np.sum(land_weight_data_space.array)\n",
    "    \n",
    "    # take the mean over those years\n",
    "    data_land_weighted = land_weight_data_space_array * data_time_mean_region.array\n",
    "    data_time_mean_region_mean = np.sum(data_land_weighted)\n",
    "    \n",
    "    # Output this time-mean result\n",
    "    return data_time_mean_region, data_time_mean_region_mean, land_weight_data_space"
   ]
  },
  {
   "cell_type": "markdown",
   "metadata": {
    "collapsed": false
   },
   "source": [
    "Below is an example using this new function to create regional plots.\n",
    "- The regional plot works the same as before but instead of specifying the area in the cfp.con() call, it is specified by the function which gets the data.\n",
    "- The function outputs 3 things which are stored in: data, mean, weight:\n",
    "- data: same as earlier function but only over the specified region\n",
    "- mean: the land-area weighted mean of the data over the specified area\n",
    "- weight: the weighting applied, i.e., the land area weight (a product of the relative area of gridcells [1x1 degree lon lat is a much smaller area at poles than at equator], and land area fraction of each grid cell)"
   ]
  },
  {
   "cell_type": "code",
   "execution_count": 0,
   "metadata": {
    "collapsed": false
   },
   "outputs": [
   ],
   "source": [
    "lon_range = [-15, 10]\n",
    "lat_range = [45, 65]\n",
    "\n",
    "data, mean, weight = get_regional_data_and_mean('control', 'TREFHT', 'ann', lon_range, lat_range, [10,29])\n",
    "\n",
    "baseline_temp_UK = mean # you'll want to create variables to store the mean if you want to calculate the change between two experiments.\n",
    "print(\"The baseline temperature over the UK is:\", baseline_temp_UK)\n",
    "\n",
    "cfp.setvars()\n",
    "cfp.mapset()\n",
    "cfp.con(data, blockfill=True, lines=False)\n",
    "cfp.con(weight, blockfill=True, lines=False) # You won't need to include these plots in your report but you can plot it to help you interpret your results for your region, i.e., what parts are actually land in the model."
   ]
  },
  {
   "cell_type": "markdown",
   "metadata": {
    "collapsed": false
   },
   "source": [
    "## Question: what is wrong with claiming the mean temperature printed here is the UK's mean temperature?"
   ]
  },
  {
   "cell_type": "markdown",
   "metadata": {
    "collapsed": false
   },
   "source": [
    "## TASK E1. Copy the code from above and modify it so that you get a more accurate value for the UK's average temperature."
   ]
  },
  {
   "cell_type": "code",
   "execution_count": 0,
   "metadata": {
    "collapsed": false
   },
   "outputs": [
   ],
   "source": [
    "# YOUR CODE HERE.\n",
    "lon_range = [-8, 2.5]\n",
    "lat_range = [49.3, 61]\n",
    "\n",
    "data, mean, weight = get_regional_data_and_mean('control', 'TREFHT', 'ann', lon_range, lat_range, [10,29])\n",
    "\n",
    "baseline_temp_UK = mean # you'll want to create variables to store the mean if you want to calculate the change between two experiments.\n",
    "print(\"The baseline temperature over the UK is:\", baseline_temp_UK)\n",
    "\n",
    "cfp.setvars()\n",
    "cfp.con(data, blockfill=True, lines=False)\n",
    "cfp.con(weight, blockfill=True, lines=False) # You won't need to include these plots in your report but you can plot it to help you interpret your results for your region, i.e., what parts are actually land in the model."
   ]
  },
  {
   "cell_type": "markdown",
   "metadata": {
    "collapsed": false
   },
   "source": [
    "## Extra 2. Different seasons\n",
    "\n",
    "Instead of looking at changes in the annual-mean (or maximum) you could see how things are changing in different seasons. This is straightforward; simply change the variable \"season\" from \"ann\" to \"djf\", \"mam\", \"jja\" or \"son\".\n",
    "\n",
    "You could also look at the seasonality, e.g. taking the difference between jja and djf for each case, or separately assessing changes in summer and winter.\n",
    "\n",
    "Below is an example showing the fraction of rain that falls in the wet season in india (jja / ann) in the baseline"
   ]
  },
  {
   "cell_type": "code",
   "execution_count": 0,
   "metadata": {
    "collapsed": false
   },
   "outputs": [
   ],
   "source": [
    "lon_range = [60, 100]\n",
    "lat_range = [0, 40]\n",
    "\n",
    "data_jja, mean_jja, weight = get_regional_data_and_mean('control', 'PRECT', 'jja', lon_range, lat_range, [10,29])\n",
    "data_ann, mean_ann, weight = get_regional_data_and_mean('control', 'PRECT', 'ann', lon_range, lat_range, [10,29])\n",
    "\n",
    "baseline_jja_precip_frac_mean = mean_jja / (4.*mean_ann) # we multiply by 4 as there are 12 months in the year vs. 3 in summer.\n",
    "print(\"The fraction of rain that falls in the summer is:\", baseline_jja_precip_frac_mean)\n",
    "\n",
    "# Values above 0.25 indicate more rain falls in summer than we'd expect from averaging out over the year.\n",
    "baseline_jja_precip_frac = data_jja / (4.*data_ann) # we multiply by 4 as there are 12 months in the year vs. 3 in summer.\n",
    "cfp.con(baseline_jja_precip_frac, blockfill=True, lines=False)"
   ]
  },
  {
   "cell_type": "markdown",
   "metadata": {
    "collapsed": false
   },
   "source": [
    "## Task E2. Plot the change in summer rainfall in India between the global warming case and the baseline."
   ]
  },
  {
   "cell_type": "code",
   "execution_count": 0,
   "metadata": {
    "collapsed": false
   },
   "outputs": [
   ],
   "source": [
    "# YOUR CODE HERE.\n",
    "lon_range = [60, 100]\n",
    "lat_range = [0, 40]\n",
    "\n",
    "data_jja, mean_jja, weight = get_regional_data_and_mean('control', 'PRECT', 'jja', lon_range, lat_range, [10,29])\n",
    "data_jja_global_warming, mean_jja_global_warming, weight = get_regional_data_and_mean('control', 'PRECT', 'jja', lon_range, lat_range, [75,95])\n",
    "data_ann, mean_ann, weight = get_regional_data_and_mean('control', 'PRECT', 'ann', lon_range, lat_range, [10,29])\n",
    "\n",
    "change_jja_precip = data_jja_global_warming - data_jja\n",
    "cfp.con(change_jja_precip, blockfill=True, lines=False)"
   ]
  },
  {
   "cell_type": "markdown",
   "metadata": {
    "collapsed": false
   },
   "source": [
    "## Extra 3. Fractional geoengineering\n",
    "\n",
    "The level of cooling achieved by stratospheric aerosol geoengineering would be a choice, however we've only got results for 1 choice: offsetting all warming from 2020. This The might result in an overshoot in your region for some measures, e.g., precip might increase +5% under global warming and decrease -3% under solar geoengineering. The following functino let's you generate results for a synthetic case where only a fraction of the warming is offset by stratospheric aerosol geoengineering, i.e., we linearly scale between the global warming and the solar geoengineering case."
   ]
  },
  {
   "cell_type": "code",
   "execution_count": 0,
   "metadata": {
    "collapsed": false
   },
   "outputs": [
   ],
   "source": [
    "def frac_geo_regional_data_and_mean(variable, season, lon_range, lat_range, year_range, frac_geo = 0.5):\n",
    "    \"\"\"\n",
    "    This function simply linearly scales the data at each latitude and longitude to be some fraction of the way\n",
    "    from the value in the RCP8.5 scenario towards the value in the GLENS scenario. \n",
    "    If fraction is 0, we return data_RCP8.5, and if the fraction is 1 we return data_GLENS.\n",
    "    The default is 0.5, i.e., offsetting halve of future warming with solar geoengineering.\n",
    "    \"\"\"\n",
    "    data_global_warming, mean_global_warming, weight = get_regional_data_and_mean('control', variable, season, lon_range, lat_range, year_range)\n",
    "    data_solar_geo, mean_solar_geo, weight = get_regional_data_and_mean('feedback', variable, season, lon_range, lat_range, year_range)\n",
    "\n",
    "    # linearly scale the data and means returned by get_regional_data_and_mean\n",
    "    mean_frac_geo = mean_global_warming + frac_geo * (mean_solar_geo - mean_global_warming)\n",
    "    # For the full data we need to add an extra step\n",
    "    data_frac_geo = data_global_warming.copy() # copy format of global warming data\n",
    "    # Replace data in this copy with the output of this function:\n",
    "    data_frac_geo[:] = data_global_warming.data.array + frac_geo * (data_solar_geo.data.array - data_global_warming.data.array)\n",
    "    \n",
    "    # Returns the same outputs as the get_regional_data_and_mean function but for this synthetic case.\n",
    "    return data_frac_geo, mean_frac_geo, weight"
   ]
  },
  {
   "cell_type": "markdown",
   "metadata": {
    "collapsed": false
   },
   "source": [
    "Here's some example code which plots UK temperatures in this 50% geoengineering case."
   ]
  },
  {
   "cell_type": "code",
   "execution_count": 0,
   "metadata": {
    "collapsed": false
   },
   "outputs": [
   ],
   "source": [
    "#lons and lats for the UK\n",
    "lon_range = [-15, 10]\n",
    "lat_range = [45, 65]\n",
    "\n",
    "# get the data for a case where 50% of future warming is offset by stratospheric aerosol geoengineering. \n",
    "data_50, mean_50, weight = frac_geo_regional_data_and_mean('TREFHT', 'ann', lon_range, lat_range, [75,94], frac_geo = 0.5)\n",
    "\n",
    "print(mean_50)\n",
    "# Plot this data\n",
    "cfp.con(data_50, blockfill=True, lines=False)"
   ]
  },
  {
   "cell_type": "markdown",
   "metadata": {
    "collapsed": false
   },
   "source": [
    "## Task E3: copy the above code to produce 3 temperature anomaly plots: global warming, solar geo and 50% solar geo all relative to baseline, to confirm that the code has worked as intended.\n",
    "Hint: Copy your nice temperature plot settings from farther above and integrate those too."
   ]
  },
  {
   "cell_type": "code",
   "execution_count": 0,
   "metadata": {
    "collapsed": false
   },
   "outputs": [
   ],
   "source": [
    "# YOUR CODE HERE.\n",
    "\n",
    "#lons and lats for the UK\n",
    "lon_range = [-15, 10]\n",
    "lat_range = [45, 65]\n",
    "\n",
    "# get the data for a case from all three cases.\n",
    "data_50, mean_50, weight = frac_geo_regional_data_and_mean('TREFHT', 'ann', lon_range, lat_range, [75,94], frac_geo = 0.5)\n",
    "data_solar_geo, mean_solar_geo, weight = get_regional_data_and_mean('feedback','TREFHT', 'ann', lon_range, lat_range, [75,94])\n",
    "data_global_warming, mean_GW, weight = get_regional_data_and_mean('control', 'TREFHT', 'ann', lon_range, lat_range, [75,94])\n",
    "data_base, mean_base, weight = get_regional_data_and_mean('control', 'TREFHT', 'ann', lon_range, lat_range, [10,29])\n",
    "\n",
    "global_warming_anom = data_global_warming - data_base\n",
    "solar_geo_anom = data_solar_geo - data_base\n",
    "solar_geo_50_anom = data_50 - data_base\n",
    "\n",
    "cfp.levs(min=-6,max=6,step=0.5)\n",
    "cfp.cscale('scale1', below=13, above=13)\n",
    "\n",
    "# Plot this data\n",
    "cfp.con(global_warming_anom, blockfill=True, lines=False)\n",
    "cfp.con(solar_geo_anom, blockfill=True, lines=False)\n",
    "cfp.con(solar_geo_50_anom, blockfill=True, lines=False)"
   ]
  },
  {
   "cell_type": "markdown",
   "metadata": {
    "collapsed": false
   },
   "source": [
    "# Extra 4. Country Borders and higher resolution coastline\n",
    "Here's how to increase the resolution of your coastline and also how to add country borders."
   ]
  },
  {
   "cell_type": "code",
   "execution_count": 0,
   "metadata": {
    "collapsed": false
   },
   "outputs": [
   ],
   "source": [
    "# Import the mapping routine behind CF plot\n",
    "import cartopy\n",
    "\n",
    "# We define a variable to store the time-mean output and give it a name that makes sense.\n",
    "global_warming_trefht_ann = get_time_mean_data('control', 'TREFHT', 'ann', [75,94])\n",
    "\n",
    "# cfp.gopen() / cfp.gclose() needs to be wrapped around the plotting code if you want to add borders.\n",
    "cfp.gopen() # replace with line that outputs file, if needed.\n",
    "cfp.mapset(-30, 60, -60, 30, resolution='10m') # Setting resolution to '10m' gives higher resolution coastlines. Use cfp.mapset(resolution='10m') on its own if using get_regional_data_and_mean to specify region\n",
    "cfp.con(global_warming_trefht_ann)\n",
    "cfp.plotvars.mymap.add_feature(cartopy.feature.BORDERS, color='b') # This line adds borders. 'b' for blue, 'k' for black, etc.\n",
    "cfp.gclose()"
   ]
  },
  {
   "cell_type": "markdown",
   "metadata": {
    "collapsed": false
   },
   "source": [
    "# Extra 5. Multiple panels\n",
    "Here's an example from the cf plot user guide on how to combine multiple panels into one figure\n",
    "\n",
    "More details on how to fine tune this available on the CF plot user guide https://ajheaps.github.io/cf-plot/user_guide.html search for \"multiple plots\""
   ]
  },
  {
   "cell_type": "code",
   "execution_count": 0,
   "metadata": {
    "collapsed": false
   },
   "outputs": [
   ],
   "source": [
   ]
  },
  {
   "cell_type": "code",
   "execution_count": 0,
   "metadata": {
    "collapsed": false
   },
   "outputs": [
   ],
   "source": [
    "global_warming_trefht_ann = get_time_mean_data('control', 'TREFHT', 'ann', [75,94])\n",
    "\n",
    "cfp.mapset() # cfp.cscale(), cfp.levs\n",
    "\n",
    "cfp.gopen(rows=2, columns=2, bottom=0.2)\n",
    "cfp.gpos(1)\n",
    "cfp.con(global_warming_trefht_ann)\n",
    "cfp.gpos(2)\n",
    "cfp.con(global_warming_trefht_ann)\n",
    "cfp.gpos(3)\n",
    "cfp.con(global_warming_trefht_ann)\n",
    "cfp.gpos(4)\n",
    "cfp.con(global_warming_trefht_ann)\n",
    "cfp.gclose()"
   ]
  },
  {
   "cell_type": "markdown",
   "metadata": {
    "collapsed": false
   },
   "source": [
    "# FIN.\n",
    "\n",
    "You are done, great! \n",
    "\n",
    "\n",
    "\n",
    "\n",
    "I've copied "
   ]
  },
  {
   "cell_type": "markdown",
   "metadata": {
    "collapsed": false
   },
   "source": [
    "## X. Background on using CF and CF-plot.\n",
    "\n",
    "This is some background on using the "
   ]
  },
  {
   "cell_type": "code",
   "execution_count": 0,
   "metadata": {
    "collapsed": false
   },
   "outputs": [
   ],
   "source": [
    "\"\"\"\n",
    "There are two experiments, and two files for each variable:\n",
    "Control - starts in the year 2010 with GHG emissions following a high-end, rapid-warming scenario\n",
    "Feedback - starts in the year 2020 with the same GHG scenario as Control but with stratospheric aerosol \n",
    "geoengineering deployed to keep temperatures at 2020 levels, see the paper linked to at the start for more.\n",
    "\"\"\"\n",
    "control_filename = 'control.001.cam.h0.{VAR}.201001-209912.{SEAS}.nc' # The {VAR} and {SEAS} parts will be specified later\n",
    "feedback_filename = 'feedback.001.cam.h0.{VAR}.202001-209912.{SEAS}.nc'"
   ]
  },
  {
   "cell_type": "markdown",
   "metadata": {
    "collapsed": false
   },
   "source": [
    "Now let's open a file and see what's in it."
   ]
  },
  {
   "cell_type": "code",
   "execution_count": 0,
   "metadata": {
    "collapsed": false
   },
   "outputs": [
   ],
   "source": [
    "# this specifies the path to the data, using \"/\" to separate folders, and it should work in both mac and linux.\n",
    "data_dir = Path(\"data/\")\n",
    "\n",
    "# Now we're going to open a test netCDF file. netCDF is just a standardized data filetype\n",
    "control_fileloc = data_dir / control_filename.format(VAR='TREFHT', SEAS='ann') \n",
    "# feedback_fileloc = data_dir / feedback_filename.format(VAR='TREFHT', SEAS='ann') \n",
    "\n",
    "# Now we will open the netCDF file (.nc)\n",
    "control_nc = cf.read(control_fileloc)\n",
    "# feedback_nc = cf.read(feedback_fileloc)\n",
    "\n",
    "# Let's see what's in it. print statements are a great way to work out what variables are.\n",
    "print(control_nc)\n",
    "# print(feedback_nc)"
   ]
  },
  {
   "cell_type": "markdown",
   "metadata": {
    "collapsed": false
   },
   "source": [
    "control_nc is a list of the \"fields\" or variables in the netcdf file. The first \"Field\" listed is the variable we're interested in, the reference height temperature. This is the 2m air temperature which is the standard way of reporting air temperatures. It has the short-name \"TREFHT\" so let's check that \"field\" out. The other fields describe some of the conditions in the climate model, e.g. CO2 concentration, but we can ignore those."
   ]
  },
  {
   "cell_type": "code",
   "execution_count": 0,
   "metadata": {
    "collapsed": false
   },
   "outputs": [
   ],
   "source": [
    "# As this is a list, note the [], and we want the first element we use the index 0. Python starts counting indices from 0.\n",
    "temp2m = control_nc[0]\n",
    "print(temp2m)\n",
    "# temp2m = feedback_nc[0]\n",
    "# print(temp2m)"
   ]
  },
  {
   "cell_type": "markdown",
   "metadata": {
    "collapsed": false
   },
   "source": [
    "Now we can see what this temperature \"Field\" looks like. It has a data part, a cell method, and dimensions."
   ]
  },
  {
   "cell_type": "code",
   "execution_count": 0,
   "metadata": {
    "collapsed": false
   },
   "outputs": [
   ],
   "source": [
    "# Now let's select the 30 years between 2075 - 2094. there's an issue with the last few years so we won't run up until 2100.\n",
    "temp2m_20yrs = temp2m.subspace[55:75,:,:] # The experiment starts its index from 2010 [0], hence 65 for 2075.\n",
    "print(temp2m_20yrs)"
   ]
  },
  {
   "cell_type": "markdown",
   "metadata": {
    "collapsed": false
   },
   "source": [
    "Great, we can see that we now have 20 years and it's the years we wanted.\n",
    "\n",
    "Now let's take the mean of those 20 years."
   ]
  },
  {
   "cell_type": "code",
   "execution_count": 0,
   "metadata": {
    "collapsed": false
   },
   "outputs": [
   ],
   "source": [
    "temp2m_20yrmean = temp2m_20yrs.collapse('mean', axes='T') # Collapse calculates a statistical function (a mean here) on the specified axis (T for time)\n",
    "print(temp2m_20yrmean)"
   ]
  },
  {
   "cell_type": "markdown",
   "metadata": {
    "collapsed": false
   },
   "source": [
    "We now effectively have a 2-D longitude-latitude slice. Let's plot it."
   ]
  },
  {
   "cell_type": "code",
   "execution_count": 0,
   "metadata": {
    "collapsed": false
   },
   "outputs": [
   ],
   "source": [
    "cfp.con(temp2m_20yrmean)"
   ]
  },
  {
   "cell_type": "markdown",
   "metadata": {
    "collapsed": false
   },
   "source": [
    "Great, we have a nice-looking map. And, we can see that it's automatically labeled the colorbar."
   ]
  },
  {
   "cell_type": "markdown",
   "metadata": {
    "collapsed": false
   },
   "source": [
    "We've got a plot of the average absolute temperature in the years 2075-2094 in an extreme global warming scenario but this doesn't tell us very much on its own. For example, how much has the temperature changed?"
   ]
  },
  {
   "cell_type": "code",
   "execution_count": 0,
   "metadata": {
    "collapsed": false
   },
   "outputs": [
   ],
   "source": [
   ]
  }
 ],
 "metadata": {
  "kernelspec": {
   "display_name": "Python 3 (system-wide)",
   "language": "python",
   "metadata": {
    "cocalc": {
     "description": "Python 3 programming language",
     "priority": 100,
     "url": "https://www.python.org/"
    }
   },
   "name": "python3",
   "resource_dir": "/ext/jupyter/kernels/python3"
  },
  "language_info": {
   "codemirror_mode": {
    "name": "ipython",
    "version": 3
   },
   "file_extension": ".py",
   "mimetype": "text/x-python",
   "name": "python",
   "nbconvert_exporter": "python",
   "pygments_lexer": "ipython3",
   "version": "3.8.5"
  }
 },
 "nbformat": 4,
 "nbformat_minor": 4
}