{
 "cells": [
  {
   "cell_type": "markdown",
   "metadata": {
    "collapsed": false
   },
   "source": [
    "# This is the group Project Notebook for [!!!ENTER YOUR COUNTRY HERE!!!]\n",
    "\n",
    "Use this notebook to produce the figures and other analysis for your individual contribution towards the group project.\n",
    "\n",
    "#### 2 copies of this Notebook will confirm your contribution to the reports.\n",
    "- On 1st March, save a copy of this notebook as Group_Report_Final.\n",
    "- Group_Report_Interim should be frozen on 1st March. It should run smoothly and produce the figures in your interim report due on 1st March.\n",
    "- Group_Report_Final is due 15th April, again it should run smoothly to produce your contribution to the final group report. You must contribute at least 1 figure.\n",
    "\n",
    "#### !!! Make sure that this notebook runs smoothly and outputs all files if you press the \"restart and run all\" (>>) button. !!!"
   ]
  },
  {
   "cell_type": "markdown",
   "metadata": {
    "collapsed": false
   },
   "source": [
    "# Load Modules"
   ]
  },
  {
   "cell_type": "code",
   "execution_count": 1,
   "metadata": {
    "collapsed": false
   },
   "outputs": [
   ],
   "source": [
    "import numpy as np\n",
    "import matplotlib.pyplot as plt\n",
    "import matplotlib.colors as colors\n",
    "\n",
    "import cf\n",
    "import cfplot as cfp\n",
    "from netCDF4 import Dataset\n",
    "from pathlib import Path"
   ]
  },
  {
   "cell_type": "code",
   "execution_count": 2,
   "metadata": {
    "collapsed": false
   },
   "outputs": [
    {
     "name": "stdout",
     "output_type": "stream",
     "text": [
      "3.6.9\n"
     ]
    }
   ],
   "source": [
    "from platform import python_version\n",
    "\n",
    "print(python_version())"
   ]
  },
  {
   "cell_type": "markdown",
   "metadata": {
    "collapsed": false
   },
   "source": [
    "You should not need to install CF python and CF plot as you did so before. but if you have issues, copy those pip install lines across, run them once, then comment them out."
   ]
  },
  {
   "cell_type": "markdown",
   "metadata": {
    "collapsed": false
   },
   "source": [
    "# Define Functions\n",
    "\n",
    "These are the same functions defined in week 4's practical.\n",
    "\n",
    "#### The original function to get experimental data"
   ]
  },
  {
   "cell_type": "code",
   "execution_count": 3,
   "metadata": {
    "collapsed": false
   },
   "outputs": [
   ],
   "source": [
    "def get_time_mean_data(experiment, variable, season, year_range):\n",
    "    # INPUTS FOR FUNCTION:\n",
    "    # experiment = 'control' - for the global warming scenario, or 'feedback' - for the stratospheric aerosol geoengineering experiment.\n",
    "    # Variable = 'TREFHT', 'TREFHTMX', 'PRECT', 'PRECTMX', or 'P-E'\n",
    "    # TREFHT = Temperature at the reference height (2m), i.e. air temperature\n",
    "    # TREFHTMX = The maximum recorded air temperature in a month\n",
    "    # PRECT = Precipitation rate (rain + snow)\n",
    "    # PRECTMX = The maximum recorded precipitation rate at the model timestep (30 mins)\n",
    "    # P-E = Precipitation minus total Evaporation (evaporation, transpiraton and sublimation)\n",
    "    # season = 'ann', 'djf', 'mam', 'jja', 'son' = annual-mean or season-mean\n",
    "    # year_range = [start_year, end_year], default is 75 to 94, i.e., a range of 20 years.\n",
    "    \n",
    "    if len(year_range) != 2:\n",
    "        print('year_range must have 2 elements, you inputted:', year_range)\n",
    "    \n",
    "    # Select the correct filename format and select the correct indices.\n",
    "    if experiment == 'control':\n",
    "        exp_filename = 'control.001.cam.h0.{VAR}.201001-209912.{SEAS}.nc'\n",
    "        index_range = [year_range[0] - 10, year_range[1] - 10] # starts in year 2010 so -10\n",
    "    elif experiment == 'feedback':\n",
    "        exp_filename = 'feedback.001.cam.h0.{VAR}.202001-209912.{SEAS}.nc'\n",
    "        index_range = [year_range[0] - 20, year_range[1] - 20] # starts in year 2020 so -20\n",
    "    else:\n",
    "        print(experiment, 'not recognized. must be either control or feedback')\n",
    "    \n",
    "    # Specify filename and location\n",
    "    data_dir = Path(\"data/\")\n",
    "    fileloc = data_dir / exp_filename.format(VAR=variable, SEAS=season) # set the correct filename by replacing var and seas with the inputs specified for the function.\n",
    "    # Open the netcdf file\n",
    "    netcdf_data = cf.read(fileloc)\n",
    "    # select the variable data. \n",
    "    data = netcdf_data[0] # index 0 is the 3-D variable stored in the file.\n",
    "    # select the years we want\n",
    "    data_years = data.subspace[index_range[0]:index_range[1],:,:]\n",
    "    # take the mean over those years\n",
    "    data_time_mean = data_years.collapse('mean', axes='T')\n",
    "    \n",
    "    # Convert the hydrological variables from from m/s to mm/day \n",
    "    if variable == 'PRECT' or variable == 'PRECTMX' or variable == 'P-E':\n",
    "#         data_time_mean = data_time_mean * 1000. * 60 * 60 * 24\n",
    "        data_time_mean.units = 'mm/day'\n",
    "    elif variable == 'TREFHT' or variable == 'TREFHTMX':\n",
    "        data_time_mean.units = cf.Units('degreesC')\n",
    "    \n",
    "    # Output this time-mean result\n",
    "    return data_time_mean"
   ]
  },
  {
   "cell_type": "markdown",
   "metadata": {
    "collapsed": false
   },
   "source": [
    "### Add other functions from week 4's extra section here if being used."
   ]
  },
  {
   "cell_type": "code",
   "execution_count": 4,
   "metadata": {
    "collapsed": false
   },
   "outputs": [
   ],
   "source": [
    "#other functions"
   ]
  },
  {
   "cell_type": "markdown",
   "metadata": {
    "collapsed": false
   },
   "source": [
    "# Your Code Starts Here"
   ]
  },
  {
   "cell_type": "code",
   "execution_count": 5,
   "metadata": {
    "collapsed": false
   },
   "outputs": [
   ],
   "source": [
    "# YOUR CODE"
   ]
  },
  {
   "cell_type": "code",
   "execution_count": 0,
   "metadata": {
    "collapsed": false
   },
   "outputs": [
   ],
   "source": [
   ]
  }
 ],
 "metadata": {
  "kernelspec": {
   "display_name": "Python 3 (system-wide)",
   "language": "python",
   "metadata": {
    "cocalc": {
     "description": "Python 3 programming language",
     "priority": 100,
     "url": "https://www.python.org/"
    }
   },
   "name": "python3",
   "resource_dir": "/ext/jupyter/kernels/python3"
  },
  "language_info": {
   "codemirror_mode": {
    "name": "ipython",
    "version": 3
   },
   "file_extension": ".py",
   "mimetype": "text/x-python",
   "name": "python",
   "nbconvert_exporter": "python",
   "pygments_lexer": "ipython3",
   "version": "3.8.5"
  }
 },
 "nbformat": 4,
 "nbformat_minor": 4
}