{
 "cells": [
  {
   "cell_type": "markdown",
   "metadata": {
    "collapsed": false
   },
   "source": [
    "# Practical #1\n",
    "This jupyter notebook contains week 1's practical. Work through all the activities listed in this jupyter notebook. The numbered activities describe the tasks you need to complete."
   ]
  },
  {
   "cell_type": "markdown",
   "metadata": {
    "collapsed": false
   },
   "source": [
    "## Coding in Principles of Climate\n",
    "You will use Python 3 in Jupyter Notebooks, hosted here on CoCalc, throughout Principles of Climate but you will not be asked to write programs from scratch. All the Python practicals and activities will have examples and templates for you to work from and instructions for how to modify the code. However, the more you understand of Python the easier it will be to complete these activities. It's also a REALLY useful skill to develop and will help with your future career."
   ]
  },
  {
   "cell_type": "markdown",
   "metadata": {
    "collapsed": false
   },
   "source": [
    "## What is a Jupyter Notebook?\n",
    "Jupyter notebooks are interactive coding environments that can contain sections of formatted text or \"markdown\", like this, and sections of code. The code cells of a Jupyter notebook are executed independently but their outputs change the coding environment, e.g. defining a variable that is then used in a later code cell."
   ]
  },
  {
   "cell_type": "markdown",
   "metadata": {
    "collapsed": false
   },
   "source": [
    "### 1. Run the cell below by selecting it, then hitting the \"run cells\" button - the one that looks like a \"play\" button. \n",
    "You can also press SHIFT + ENTER at the same time to run a selected cell. Each time you run a cell the next cell in line will be selected. Some code sections may take time to complete, you can tell if a code cell has finished running as it will display a number indicating the order in which it was executed, i.e. [1] for the first execution, [2] for the second, etc."
   ]
  },
  {
   "cell_type": "code",
   "execution_count": 4,
   "metadata": {
    "collapsed": false
   },
   "outputs": [
    {
     "name": "stdout",
     "output_type": "stream",
     "text": [
      "This line prints the text in quotes\n"
     ]
    }
   ],
   "source": [
    "# Comments, like this line, are ignored when code blocks are executed. In Python comments start with a \"#\" symbol.\n",
    "print(\"This line prints the text in quotes\")"
   ]
  },
  {
   "cell_type": "markdown",
   "metadata": {
    "collapsed": false
   },
   "source": [
    "### 2. Add a new cell below this one by pressing the \"+\" button that's top-left, add a print statement like the one above, then run the cell.\n",
    "you can also add \"markdown\" cells (like this one) by creating a new cell, then clicking on the drop-down menu labeled \"code\" and selecting markdown. Markdown cells allow you to clearly document your code making it easier to follow."
   ]
  },
  {
   "cell_type": "markdown",
   "metadata": {
    "collapsed": false
   },
   "source": [
    "### 3. Now delete the cell you just added above. Select it then hit the scissors button that's on the row with \"file\".\n",
    "You can also move selected cells up and down the notebook by using the up and down arrows."
   ]
  },
  {
   "cell_type": "markdown",
   "metadata": {
    "collapsed": false
   },
   "source": [
    "### 4. Uh Oh! You just deleted something, Let's undo that. Hit the blue \"Time Travel\" button. Using the controls there navigate back to the version before you deleted that cell, then hit \"Revert\".\n",
    "This will be really helpful when you start writing your own code, as it's very easy to screw things up and forget how it was when it worked. If you get in a real tangle while trying to add something new to your code, you can go back to an earlier version that works and \"Export\" it so that you have an old, working version and a buggy, prototype version."
   ]
  },
  {
   "cell_type": "markdown",
   "metadata": {
    "collapsed": false
   },
   "source": [
    "### 5. Let's define a python variable. Run the code cell below."
   ]
  },
  {
   "cell_type": "code",
   "execution_count": 2,
   "metadata": {
    "collapsed": false
   },
   "outputs": [
   ],
   "source": [
    "x = \"Hello\""
   ]
  },
  {
   "cell_type": "markdown",
   "metadata": {
    "collapsed": false
   },
   "source": [
    "### 6. Now let's use that variable in another code cell. Run the cell below.\n",
    "You'll see that the program's \"environment\" has saved the variable for use in other cells."
   ]
  },
  {
   "cell_type": "code",
   "execution_count": 0,
   "metadata": {
    "collapsed": false
   },
   "outputs": [
   ],
   "source": [
   ]
  },
  {
   "cell_type": "code",
   "execution_count": 0,
   "metadata": {
    "collapsed": false
   },
   "outputs": [
   ],
   "source": [
   ]
  },
  {
   "cell_type": "code",
   "execution_count": 0,
   "metadata": {
    "collapsed": false
   },
   "outputs": [
   ],
   "source": [
   ]
  },
  {
   "cell_type": "code",
   "execution_count": 3,
   "metadata": {
    "collapsed": false
   },
   "outputs": [
    {
     "name": "stdout",
     "output_type": "stream",
     "text": [
      "Hello\n"
     ]
    }
   ],
   "source": [
    "print(x)"
   ]
  },
  {
   "cell_type": "markdown",
   "metadata": {
    "collapsed": false
   },
   "source": [
    "### 7. Try deleting the 'X = \"hello\"' line and re-running the print statement. What happens? Write down your answer in this comment box below (double-click to edit)"
   ]
  },
  {
   "cell_type": "markdown",
   "metadata": {
    "collapsed": false
   },
   "source": [
    "\"your answer here\""
   ]
  },
  {
   "cell_type": "markdown",
   "metadata": {
    "collapsed": false
   },
   "source": [
    "### 8. Now hit the fast forward (>>) button. This will restart the environment and run all code sections. What happens this time and why?"
   ]
  },
  {
   "cell_type": "markdown",
   "metadata": {
    "collapsed": false
   },
   "source": [
    "\"your answer here\""
   ]
  },
  {
   "cell_type": "markdown",
   "metadata": {
    "collapsed": false
   },
   "source": [
    "# You now know the basics of Jupyter Notebooks in CoCalc! \n",
    "The notebook format, of code-cells and markdown-cells is really flexible and easy to use as you can develop, test and run sections of code independently. However, one risk with this is that you can delete code that is essential without realizing it as it's output (X = \"something\") is stored during your session. By restarting and running all cells in order every so often, you can check that everything is working as intended.\n",
    "\n",
    "# Now, let's move on to Python."
   ]
  },
  {
   "cell_type": "markdown",
   "metadata": {
    "collapsed": false
   },
   "source": [
    "### 9. Follow these external links for an introduction to the basics of Python\n",
    "\n",
    "Complete the following essential Python tutorials:\n",
    "1) [Hello, World!](https://www.learnpython.org/en/Hello%2C_World%21)\n",
    "2) [Variables and Types](https://www.learnpython.org/en/Variables_and_Types)\n",
    "3) [Lists](https://www.learnpython.org/en/Lists)\n",
    "4) [Basic Operators](https://www.learnpython.org/en/Basic_Operators)\n",
    "\n",
    "We'll also be using the Numpy module for working with arrays of data, so complete that tutorial too:\n",
    "\n",
    "5) [Numpy Arrays](https://www.learnpython.org/en/Numpy_Arrays)\n",
    "\n",
    "While not essential, I recommend completing all 12 of the \"learn the basics\" Python tutorials available on [LearnPython.org](https://www.learnpython.org/en/Welcome). This shouldn't take too long as they're all quite short and it will better equip you to follow along with the work we'll be doing later."
   ]
  },
  {
   "cell_type": "code",
   "execution_count": 0,
   "metadata": {
    "collapsed": false
   },
   "outputs": [
   ],
   "source": [
   ]
  }
 ],
 "metadata": {
  "kernelspec": {
   "display_name": "Python 3 (system-wide)",
   "language": "python",
   "metadata": {
    "cocalc": {
     "description": "Python 3 programming language",
     "priority": 100,
     "url": "https://www.python.org/"
    }
   },
   "name": "python3",
   "resource_dir": "/ext/jupyter/kernels/python3"
  },
  "language_info": {
   "codemirror_mode": {
    "name": "ipython",
    "version": 3
   },
   "file_extension": ".py",
   "mimetype": "text/x-python",
   "name": "python",
   "nbconvert_exporter": "python",
   "pygments_lexer": "ipython3",
   "version": "3.8.5"
  }
 },
 "nbformat": 4,
 "nbformat_minor": 4
}